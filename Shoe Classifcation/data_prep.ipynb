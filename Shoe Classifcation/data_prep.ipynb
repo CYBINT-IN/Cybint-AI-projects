{
 "cells": [
  {
   "cell_type": "code",
   "execution_count": 1,
   "metadata": {},
   "outputs": [],
   "source": [
    "# Import Packages\n",
    "import os\n",
    "from glob import iglob\n",
    "from os.path import join,basename\n",
    "import shutil\n",
    "import random"
   ]
  },
  {
   "cell_type": "code",
   "execution_count": 2,
   "metadata": {},
   "outputs": [],
   "source": [
    "# Path to Data\n",
    "data_path = './data/Boots/' \n",
    "train_path = './train_boots'\n",
    "test_path = './test_boots'"
   ]
  },
  {
   "cell_type": "code",
   "execution_count": 3,
   "metadata": {},
   "outputs": [],
   "source": [
    "# Create training set\n",
    "for file in iglob(join(data_path,'*')):\n",
    "    save_path = join(train_path,basename(file))\n",
    "    if not os.path.exists(save_path):\n",
    "        os.makedirs(save_path)\n",
    "\n",
    "    for img in iglob(join(join(join(file,'*'),'*'),'*')):\n",
    "         \n",
    "        shutil.copy2(img,save_path)\n",
    "        print(img) "
   ]
  },
  {
   "cell_type": "code",
   "execution_count": 4,
   "metadata": {},
   "outputs": [],
   "source": [
    "# Create Testing Set\n",
    "for file in iglob(join(train_path,'*')):\n",
    "    save_path = join(test_path, basename(file))\n",
    "    if not os.path.exists(save_path):\n",
    "        os.makedirs(save_path)\n",
    "    \n",
    "    total_imgs = [x for x in iglob(join(file,'*'))]\n",
    "\n",
    "    rand_amt = 0.15 * len(total_imgs)  # select 15% of data from each category as testing set\n",
    "    test_imgs= []\n",
    "    for i in range(int(rand_amt)):\n",
    "        img = random.choice(total_imgs)\n",
    "        if img not in test_imgs:\n",
    "            shutil.move(img,save_path)\n",
    "            test_imgs.append(img)\n",
    "        print(img)"
   ]
  },
  {
   "cell_type": "code",
   "execution_count": null,
   "metadata": {},
   "outputs": [],
   "source": []
  }
 ],
 "metadata": {
  "kernelspec": {
   "display_name": "Python [conda env:tensorflow_p36]",
   "language": "python",
   "name": "conda-env-tensorflow_p36-py"
  },
  "language_info": {
   "codemirror_mode": {
    "name": "ipython",
    "version": 3
   },
   "file_extension": ".py",
   "mimetype": "text/x-python",
   "name": "python",
   "nbconvert_exporter": "python",
   "pygments_lexer": "ipython3",
   "version": "3.6.5"
  }
 },
 "nbformat": 4,
 "nbformat_minor": 2
}
