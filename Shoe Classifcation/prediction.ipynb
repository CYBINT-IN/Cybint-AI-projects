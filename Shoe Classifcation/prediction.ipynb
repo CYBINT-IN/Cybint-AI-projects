{
 "cells": [
  {
   "cell_type": "code",
   "execution_count": 1,
   "metadata": {},
   "outputs": [
    {
     "name": "stderr",
     "output_type": "stream",
     "text": [
      "Using TensorFlow backend.\n"
     ]
    }
   ],
   "source": [
    "# Importing Packages\n",
    "from utils import train_val_generator\n",
    "from keras.models import load_model\n",
    "from keras.preprocessing import image\n",
    "import shutil\n",
    "import numpy as np"
   ]
  },
  {
   "cell_type": "code",
   "execution_count": 2,
   "metadata": {},
   "outputs": [
    {
     "name": "stdout",
     "output_type": "stream",
     "text": [
      "Found 42994 images belonging to 4 classes.\n",
      "Found 7031 images belonging to 4 classes.\n",
      "Found 4942 images belonging to 3 classes.\n",
      "Found 799 images belonging to 3 classes.\n",
      "Found 11049 images belonging to 5 classes.\n",
      "Found 1783 images belonging to 5 classes.\n",
      "Found 25991 images belonging to 10 classes.\n",
      "Found 4178 images belonging to 10 classes.\n",
      "Found 1102 images belonging to 3 classes.\n",
      "Found 181 images belonging to 3 classes.\n"
     ]
    }
   ],
   "source": [
    "# Train and Test Paths\n",
    "train_path = './train'\n",
    "test_path ='./test'\n",
    "train_path_sandals = './train_sandals'\n",
    "test_path_sandals ='./test_sandals'\n",
    "train_path_boots = './train_boots'\n",
    "test_path_boots ='./test_boots'\n",
    "train_path_slippers = './train_slippers'\n",
    "test_path_slippers ='./test_slippers'\n",
    "train_path_shoes = './train_shoes'\n",
    "test_path_shoes ='./test_shoes'\n",
    "\n",
    "# Train and Test Generators\n",
    "train_gen, val_gen = train_val_generator(32,train_path,test_path)\n",
    "train_gen_sandals, val_gen_sandals = train_val_generator(32,train_path_sandals,test_path_sandals)\n",
    "train_gen_boots, val_gen_boots = train_val_generator(32,train_path_boots,test_path_boots)\n",
    "train_gen_shoes, val_gen_shoes = train_val_generator(32,train_path_shoes,test_path_shoes)\n",
    "train_gen_slippers, val_gen_slippers = train_val_generator(32,train_path_slippers,test_path_slippers)"
   ]
  },
  {
   "cell_type": "code",
   "execution_count": 3,
   "metadata": {},
   "outputs": [
    {
     "name": "stdout",
     "output_type": "stream",
     "text": [
      "{0: 'Boots', 1: 'Sandals', 2: 'Shoes', 3: 'Slippers'}\n",
      "{0: 'Boat Shoes', 1: 'Clogs and Mules', 2: 'Crib Shoes', 3: 'Firstwalker', 4: 'Flats', 5: 'Heels', 6: 'Loafers', 7: 'Oxfords', 8: 'Prewalker', 9: 'Sneakers and Athletic Shoes'}\n",
      "{0: 'Athletic', 1: 'Flat', 2: 'Heel'}\n",
      "{0: 'Boot', 1: 'Slipper Flats', 2: 'Slipper Heels'}\n",
      "{0: 'Ankle', 1: 'Knee High', 2: 'Mid-Calf', 3: 'Over the Knee', 4: 'Prewalker Boots'}\n"
     ]
    }
   ],
   "source": [
    "labels_main = (train_gen.class_indices)\n",
    "labels_main = dict((v,k) for k,v in labels_main.items())\n",
    "print(labels_main)\n",
    "labels_shoes = (train_gen_shoes.class_indices)\n",
    "labels_shoes = dict((v,k) for k,v in labels_shoes.items())\n",
    "print(labels_shoes)\n",
    "labels_sandals = (train_gen_sandals.class_indices)\n",
    "labels_sandals = dict((v,k) for k,v in labels_sandals.items())\n",
    "print(labels_sandals)\n",
    "labels_slippers = (train_gen_slippers.class_indices)\n",
    "labels_slippers = dict((v,k) for k,v in labels_slippers.items())\n",
    "print(labels_slippers)\n",
    "labels_boots = (train_gen_boots.class_indices)\n",
    "labels_boots = dict((v,k) for k,v in labels_boots.items())\n",
    "print(labels_boots)"
   ]
  },
  {
   "cell_type": "code",
   "execution_count": 4,
   "metadata": {},
   "outputs": [],
   "source": [
    "def max_pred(arr,model):\n",
    "    model = load_model(model)\n",
    "    preds = model.predict(arr).flatten().tolist()\n",
    "    \n",
    "    return preds.index(max(preds))\n",
    "    \n",
    "\n",
    "def predict(pred_dir):\n",
    "    img = image.load_img(pred_dir, target_size=(224, 224))\n",
    "    img_tensor = image.img_to_array(img)\n",
    "    img_tensor = np.expand_dims(img_tensor, axis=0)\n",
    "    img_tensor /= 255.\n",
    "\n",
    "    k = max_pred(img_tensor,'vgg_19.h5')\n",
    "    predictions = labels_main[k]\n",
    "    if predictions == \"Boots\":\n",
    "        attribute = labels_boots[max_pred(img_tensor,'vanilla_boots.h5')]\n",
    "    elif predictions == \"Sandals\":\n",
    "        attribute = labels_sandals[max_pred(img_tensor,'vanilla_sandals.h5')]\n",
    "    elif predictions == \"Shoes\":\n",
    "        attribute = labels_shoes[max_pred(img_tensor,'vanilla_shoes.h5')]\n",
    "    elif predictions == \"Slippers\":\n",
    "        attribute = labels_slippers[max_pred(img_tensor,'vanilla_slippers.h5')]\n",
    "    \n",
    "    return predictions, attribute"
   ]
  },
  {
   "cell_type": "code",
   "execution_count": 5,
   "metadata": {},
   "outputs": [
    {
     "name": "stdout",
     "output_type": "stream",
     "text": [
      "WARNING:tensorflow:From /home/ubuntu/anaconda3/envs/tensorflow_p36/lib/python3.6/site-packages/keras/backend/tensorflow_backend.py:517: The name tf.placeholder is deprecated. Please use tf.compat.v1.placeholder instead.\n",
      "\n",
      "WARNING:tensorflow:From /home/ubuntu/anaconda3/envs/tensorflow_p36/lib/python3.6/site-packages/keras/backend/tensorflow_backend.py:4138: The name tf.random_uniform is deprecated. Please use tf.random.uniform instead.\n",
      "\n",
      "WARNING:tensorflow:From /home/ubuntu/anaconda3/envs/tensorflow_p36/lib/python3.6/site-packages/keras/backend/tensorflow_backend.py:3976: The name tf.nn.max_pool is deprecated. Please use tf.nn.max_pool2d instead.\n",
      "\n",
      "WARNING:tensorflow:From /home/ubuntu/anaconda3/envs/tensorflow_p36/lib/python3.6/site-packages/keras/backend/tensorflow_backend.py:131: The name tf.get_default_graph is deprecated. Please use tf.compat.v1.get_default_graph instead.\n",
      "\n",
      "WARNING:tensorflow:From /home/ubuntu/anaconda3/envs/tensorflow_p36/lib/python3.6/site-packages/keras/backend/tensorflow_backend.py:133: The name tf.placeholder_with_default is deprecated. Please use tf.compat.v1.placeholder_with_default instead.\n",
      "\n",
      "WARNING:tensorflow:From /home/ubuntu/anaconda3/envs/tensorflow_p36/lib/python3.6/site-packages/keras/backend/tensorflow_backend.py:3445: calling dropout (from tensorflow.python.ops.nn_ops) with keep_prob is deprecated and will be removed in a future version.\n",
      "Instructions for updating:\n",
      "Please use `rate` instead of `keep_prob`. Rate should be set to `rate = 1 - keep_prob`.\n",
      "WARNING:tensorflow:From /home/ubuntu/anaconda3/envs/tensorflow_p36/lib/python3.6/site-packages/keras/backend/tensorflow_backend.py:174: The name tf.get_default_session is deprecated. Please use tf.compat.v1.get_default_session instead.\n",
      "\n",
      "WARNING:tensorflow:From /home/ubuntu/anaconda3/envs/tensorflow_p36/lib/python3.6/site-packages/keras/optimizers.py:790: The name tf.train.Optimizer is deprecated. Please use tf.compat.v1.train.Optimizer instead.\n",
      "\n",
      "WARNING:tensorflow:From /home/ubuntu/anaconda3/envs/tensorflow_p36/lib/python3.6/site-packages/tensorflow/python/ops/math_grad.py:1250: add_dispatch_support.<locals>.wrapper (from tensorflow.python.ops.array_ops) is deprecated and will be removed in a future version.\n",
      "Instructions for updating:\n",
      "Use tf.where in 2.0, which has the same broadcast rule as np.where\n"
     ]
    },
    {
     "data": {
      "text/plain": [
       "('Shoes', 'Heels')"
      ]
     },
     "execution_count": 5,
     "metadata": {},
     "output_type": "execute_result"
    }
   ],
   "source": [
    "predict(\"./data/Shoes/Heels/Stuart Weitzman/8031389.210435.jpg\")"
   ]
  }
 ],
 "metadata": {
  "kernelspec": {
   "display_name": "Python [conda env:tensorflow_p36]",
   "language": "python",
   "name": "conda-env-tensorflow_p36-py"
  },
  "language_info": {
   "codemirror_mode": {
    "name": "ipython",
    "version": 3
   },
   "file_extension": ".py",
   "mimetype": "text/x-python",
   "name": "python",
   "nbconvert_exporter": "python",
   "pygments_lexer": "ipython3",
   "version": "3.6.5"
  }
 },
 "nbformat": 4,
 "nbformat_minor": 2
}
