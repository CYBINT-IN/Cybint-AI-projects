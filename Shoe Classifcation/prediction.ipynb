{
 "cells": [
  {
   "cell_type": "code",
   "execution_count": 12,
   "metadata": {},
   "outputs": [],
   "source": [
    "from utils import train_val_generator\n",
    "from keras.models import load_model\n",
    "from keras.preprocessing import image\n",
    "import shutil\n",
    "import numpy as np"
   ]
  },
  {
   "cell_type": "code",
   "execution_count": 7,
   "metadata": {},
   "outputs": [
    {
     "name": "stdout",
     "output_type": "stream",
     "text": [
      "Found 42994 images belonging to 4 classes.\n",
      "Found 7031 images belonging to 4 classes.\n"
     ]
    }
   ],
   "source": [
    "train_path = './train'\n",
    "test_path ='./test'\n",
    "\n",
    "# train and test generator\n",
    "train_gen, val_gen = train_val_generator(32,train_path,test_path)"
   ]
  },
  {
   "cell_type": "code",
   "execution_count": 8,
   "metadata": {},
   "outputs": [
    {
     "name": "stdout",
     "output_type": "stream",
     "text": [
      "{0: 'Boots', 1: 'Sandals', 2: 'Shoes', 3: 'Slippers'}\n"
     ]
    }
   ],
   "source": [
    "labels = (train_gen.class_indices)\n",
    "labels = dict((v,k) for k,v in labels.items())\n",
    "print(labels)"
   ]
  },
  {
   "cell_type": "code",
   "execution_count": 22,
   "metadata": {},
   "outputs": [],
   "source": [
    "def predict(pred_dir):\n",
    "    img = image.load_img(pred_dir, target_size=(224, 224))\n",
    "    img_tensor = image.img_to_array(img)\n",
    "    img_tensor = np.expand_dims(img_tensor, axis=0)\n",
    "    img_tensor /= 255.\n",
    "\n",
    "    model = load_model(\"vgg_19.h5\")\n",
    "    preds = model.predict(img_tensor).flatten().tolist()\n",
    "\n",
    "    k = preds.index(max(preds))\n",
    "    predictions = labels[k]\n",
    "    \n",
    "    return predictions"
   ]
  },
  {
   "cell_type": "code",
   "execution_count": null,
   "metadata": {},
   "outputs": [],
   "source": [
    "predict(\"./data/Shoes/Heels/Stuart Weitzman/8031389.210435.jpg\n",
    "\")"
   ]
  }
 ],
 "metadata": {
  "kernelspec": {
   "display_name": "Python [conda env:tensorflow_p36]",
   "language": "python",
   "name": "conda-env-tensorflow_p36-py"
  },
  "language_info": {
   "codemirror_mode": {
    "name": "ipython",
    "version": 3
   },
   "file_extension": ".py",
   "mimetype": "text/x-python",
   "name": "python",
   "nbconvert_exporter": "python",
   "pygments_lexer": "ipython3",
   "version": "3.6.5"
  }
 },
 "nbformat": 4,
 "nbformat_minor": 2
}
