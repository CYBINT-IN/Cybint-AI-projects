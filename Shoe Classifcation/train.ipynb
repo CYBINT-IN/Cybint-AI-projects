{
 "cells": [
  {
   "cell_type": "code",
   "execution_count": 1,
   "metadata": {},
   "outputs": [
    {
     "name": "stderr",
     "output_type": "stream",
     "text": [
      "Using TensorFlow backend.\n"
     ]
    }
   ],
   "source": [
    "# Import Packages\n",
    "from keras.callbacks import ModelCheckpoint,LearningRateScheduler,EarlyStopping\n",
    "from keras.optimizers import Adam, Adadelta, RMSprop\n",
    "from models import model\n",
    "from utils import train_val_generator\n",
    "from matplotlib import pyplot as plt\n",
    "from keras.models import load_model\n",
    "from os.path import isfile\n",
    "import matplotlib.pyplot as plt"
   ]
  },
  {
   "cell_type": "code",
   "execution_count": 2,
   "metadata": {},
   "outputs": [],
   "source": [
    "# Training Parameters\n",
    "choices=['vgg_16','vgg_19','resnet_152','simple'] # All Models Available\n",
    "model_name = choices[1]\n",
    "\n",
    "is_transfer = True\n",
    "num_freeze_layer = 6\n",
    "num_classes = 10\n",
    "weights_path = 'resnet152_weights_tf.h5'\n",
    "input_shape = (224,224,3) # Input Shape for Resnet152"
   ]
  },
  {
   "cell_type": "code",
   "execution_count": 3,
   "metadata": {},
   "outputs": [],
   "source": [
    "# Path to Data\n",
    "train_path = './train_shoes'\n",
    "test_path ='./test_shoes'"
   ]
  },
  {
   "cell_type": "code",
   "execution_count": 4,
   "metadata": {
    "scrolled": true
   },
   "outputs": [
    {
     "name": "stdout",
     "output_type": "stream",
     "text": [
      "WARNING:tensorflow:From /home/ubuntu/anaconda3/envs/tensorflow_p36/lib/python3.6/site-packages/keras/backend/tensorflow_backend.py:74: The name tf.get_default_graph is deprecated. Please use tf.compat.v1.get_default_graph instead.\n",
      "\n",
      "WARNING:tensorflow:From /home/ubuntu/anaconda3/envs/tensorflow_p36/lib/python3.6/site-packages/keras/backend/tensorflow_backend.py:517: The name tf.placeholder is deprecated. Please use tf.compat.v1.placeholder instead.\n",
      "\n",
      "WARNING:tensorflow:From /home/ubuntu/anaconda3/envs/tensorflow_p36/lib/python3.6/site-packages/keras/backend/tensorflow_backend.py:4138: The name tf.random_uniform is deprecated. Please use tf.random.uniform instead.\n",
      "\n",
      "WARNING:tensorflow:From /home/ubuntu/anaconda3/envs/tensorflow_p36/lib/python3.6/site-packages/keras/backend/tensorflow_backend.py:3976: The name tf.nn.max_pool is deprecated. Please use tf.nn.max_pool2d instead.\n",
      "\n",
      "WARNING:tensorflow:From /home/ubuntu/anaconda3/envs/tensorflow_p36/lib/python3.6/site-packages/keras/backend/tensorflow_backend.py:174: The name tf.get_default_session is deprecated. Please use tf.compat.v1.get_default_session instead.\n",
      "\n",
      "WARNING:tensorflow:From /home/ubuntu/anaconda3/envs/tensorflow_p36/lib/python3.6/site-packages/keras/backend/tensorflow_backend.py:181: The name tf.ConfigProto is deprecated. Please use tf.compat.v1.ConfigProto instead.\n",
      "\n",
      "WARNING:tensorflow:From /home/ubuntu/anaconda3/envs/tensorflow_p36/lib/python3.6/site-packages/keras/backend/tensorflow_backend.py:3445: calling dropout (from tensorflow.python.ops.nn_ops) with keep_prob is deprecated and will be removed in a future version.\n",
      "Instructions for updating:\n",
      "Please use `rate` instead of `keep_prob`. Rate should be set to `rate = 1 - keep_prob`.\n",
      "_________________________________________________________________\n",
      "Layer (type)                 Output Shape              Param #   \n",
      "=================================================================\n",
      "input_2 (InputLayer)         (None, 224, 224, 3)       0         \n",
      "_________________________________________________________________\n",
      "block1_conv1 (Conv2D)        (None, 224, 224, 64)      1792      \n",
      "_________________________________________________________________\n",
      "block1_conv2 (Conv2D)        (None, 224, 224, 64)      36928     \n",
      "_________________________________________________________________\n",
      "block1_pool (MaxPooling2D)   (None, 112, 112, 64)      0         \n",
      "_________________________________________________________________\n",
      "block2_conv1 (Conv2D)        (None, 112, 112, 128)     73856     \n",
      "_________________________________________________________________\n",
      "block2_conv2 (Conv2D)        (None, 112, 112, 128)     147584    \n",
      "_________________________________________________________________\n",
      "block2_pool (MaxPooling2D)   (None, 56, 56, 128)       0         \n",
      "_________________________________________________________________\n",
      "block3_conv1 (Conv2D)        (None, 56, 56, 256)       295168    \n",
      "_________________________________________________________________\n",
      "block3_conv2 (Conv2D)        (None, 56, 56, 256)       590080    \n",
      "_________________________________________________________________\n",
      "block3_conv3 (Conv2D)        (None, 56, 56, 256)       590080    \n",
      "_________________________________________________________________\n",
      "block3_conv4 (Conv2D)        (None, 56, 56, 256)       590080    \n",
      "_________________________________________________________________\n",
      "block3_pool (MaxPooling2D)   (None, 28, 28, 256)       0         \n",
      "_________________________________________________________________\n",
      "block4_conv1 (Conv2D)        (None, 28, 28, 512)       1180160   \n",
      "_________________________________________________________________\n",
      "block4_conv2 (Conv2D)        (None, 28, 28, 512)       2359808   \n",
      "_________________________________________________________________\n",
      "block4_conv3 (Conv2D)        (None, 28, 28, 512)       2359808   \n",
      "_________________________________________________________________\n",
      "block4_conv4 (Conv2D)        (None, 28, 28, 512)       2359808   \n",
      "_________________________________________________________________\n",
      "block4_pool (MaxPooling2D)   (None, 14, 14, 512)       0         \n",
      "_________________________________________________________________\n",
      "block5_conv1 (Conv2D)        (None, 14, 14, 512)       2359808   \n",
      "_________________________________________________________________\n",
      "block5_conv2 (Conv2D)        (None, 14, 14, 512)       2359808   \n",
      "_________________________________________________________________\n",
      "block5_conv3 (Conv2D)        (None, 14, 14, 512)       2359808   \n",
      "_________________________________________________________________\n",
      "block5_conv4 (Conv2D)        (None, 14, 14, 512)       2359808   \n",
      "_________________________________________________________________\n",
      "block5_pool (MaxPooling2D)   (None, 7, 7, 512)         0         \n",
      "_________________________________________________________________\n",
      "flatten_1 (Flatten)          (None, 25088)             0         \n",
      "_________________________________________________________________\n",
      "dense_1 (Dense)              (None, 1024)              25691136  \n",
      "_________________________________________________________________\n",
      "dropout_1 (Dropout)          (None, 1024)              0         \n",
      "_________________________________________________________________\n",
      "dense_2 (Dense)              (None, 1024)              1049600   \n",
      "_________________________________________________________________\n",
      "dense_3 (Dense)              (None, 10)                10250     \n",
      "=================================================================\n",
      "Total params: 46,775,370\n",
      "Trainable params: 46,515,210\n",
      "Non-trainable params: 260,160\n",
      "_________________________________________________________________\n"
     ]
    }
   ],
   "source": [
    "# Model for Traning\n",
    "tr_model = model(model_name,num_classes,is_transfer,\n",
    "                num_freeze_layer,weights_path,input_shape)"
   ]
  },
  {
   "cell_type": "code",
   "execution_count": 5,
   "metadata": {},
   "outputs": [
    {
     "name": "stdout",
     "output_type": "stream",
     "text": [
      "Found 25991 images belonging to 10 classes.\n",
      "Found 4178 images belonging to 10 classes.\n"
     ]
    }
   ],
   "source": [
    "# Train and Test generator\n",
    "train_gen, val_gen = train_val_generator(32,train_path,test_path)"
   ]
  },
  {
   "cell_type": "code",
   "execution_count": 6,
   "metadata": {},
   "outputs": [
    {
     "name": "stdout",
     "output_type": "stream",
     "text": [
      "No saved weights found.\n",
      "vgg_19_shoes.h5\n"
     ]
    }
   ],
   "source": [
    "# Load last model if exists\n",
    "#model_name = model_name+'.h5'\n",
    "if isfile(model_name+\"_shoes.h5\"):\n",
    "    print('Loading previously trained weights and continue traning.....')\n",
    "    tr_model = load_model(model_name+\".h5\")\n",
    "else:\n",
    "    print('No saved weights found.')\n",
    "    \n",
    "print(model_name+\"_shoes.h5\")"
   ]
  },
  {
   "cell_type": "code",
   "execution_count": 7,
   "metadata": {},
   "outputs": [
    {
     "name": "stdout",
     "output_type": "stream",
     "text": [
      "WARNING:tensorflow:From /home/ubuntu/anaconda3/envs/tensorflow_p36/lib/python3.6/site-packages/keras/optimizers.py:790: The name tf.train.Optimizer is deprecated. Please use tf.compat.v1.train.Optimizer instead.\n",
      "\n"
     ]
    }
   ],
   "source": [
    "# Model saving\n",
    "checkpoint = ModelCheckpoint(model_name+'_shoes.h5',monitor='val_acc',verbose=1,save_best_only=True)\n",
    "early_stop = EarlyStopping(monitor='val_acc',min_delta=0,patience=3,verbose=1,mode='auto')\n",
    "\n",
    "# Compile the model\n",
    "tr_model.compile(loss='categorical_crossentropy',optimizer=RMSprop(1e-5),metrics=['accuracy'])\n"
   ]
  },
  {
   "cell_type": "code",
   "execution_count": 8,
   "metadata": {},
   "outputs": [
    {
     "name": "stdout",
     "output_type": "stream",
     "text": [
      "WARNING:tensorflow:From /home/ubuntu/anaconda3/envs/tensorflow_p36/lib/python3.6/site-packages/tensorflow/python/ops/math_grad.py:1250: add_dispatch_support.<locals>.wrapper (from tensorflow.python.ops.array_ops) is deprecated and will be removed in a future version.\n",
      "Instructions for updating:\n",
      "Use tf.where in 2.0, which has the same broadcast rule as np.where\n",
      "Epoch 1/10\n",
      "1000/1000 [==============================] - 607s 607ms/step - loss: 0.9570 - acc: 0.6801 - val_loss: 0.6220 - val_acc: 0.8033\n",
      "\n",
      "Epoch 00001: val_acc improved from -inf to 0.80332, saving model to vgg_19_shoes.h5\n",
      "Epoch 2/10\n",
      "1000/1000 [==============================] - 599s 599ms/step - loss: 0.6278 - acc: 0.7932 - val_loss: 0.5197 - val_acc: 0.8330\n",
      "\n",
      "Epoch 00002: val_acc improved from 0.80332 to 0.83302, saving model to vgg_19_shoes.h5\n",
      "Epoch 3/10\n",
      "1000/1000 [==============================] - 599s 599ms/step - loss: 0.5397 - acc: 0.8267 - val_loss: 0.4805 - val_acc: 0.8503\n",
      "\n",
      "Epoch 00003: val_acc improved from 0.83302 to 0.85030, saving model to vgg_19_shoes.h5\n",
      "Epoch 4/10\n",
      "1000/1000 [==============================] - 599s 599ms/step - loss: 0.4914 - acc: 0.8418 - val_loss: 0.4055 - val_acc: 0.8691\n",
      "\n",
      "Epoch 00004: val_acc improved from 0.85030 to 0.86911, saving model to vgg_19_shoes.h5\n",
      "Epoch 5/10\n",
      "1000/1000 [==============================] - 598s 598ms/step - loss: 0.4550 - acc: 0.8543 - val_loss: 0.4217 - val_acc: 0.8685\n",
      "\n",
      "Epoch 00005: val_acc did not improve from 0.86911\n",
      "Epoch 6/10\n",
      "1000/1000 [==============================] - 598s 598ms/step - loss: 0.4294 - acc: 0.8624 - val_loss: 0.4050 - val_acc: 0.8768\n",
      "\n",
      "Epoch 00006: val_acc improved from 0.86911 to 0.87680, saving model to vgg_19_shoes.h5\n",
      "Epoch 7/10\n",
      "1000/1000 [==============================] - 598s 598ms/step - loss: 0.4168 - acc: 0.8681 - val_loss: 0.4208 - val_acc: 0.8844\n",
      "\n",
      "Epoch 00007: val_acc improved from 0.87680 to 0.88443, saving model to vgg_19_shoes.h5\n",
      "Epoch 8/10\n",
      "1000/1000 [==============================] - 598s 598ms/step - loss: 0.4002 - acc: 0.8715 - val_loss: 0.3919 - val_acc: 0.8765\n",
      "\n",
      "Epoch 00008: val_acc did not improve from 0.88443\n",
      "Epoch 9/10\n",
      "1000/1000 [==============================] - 598s 598ms/step - loss: 0.3926 - acc: 0.8760 - val_loss: 0.4298 - val_acc: 0.8688\n",
      "\n",
      "Epoch 00009: val_acc did not improve from 0.88443\n",
      "Epoch 10/10\n",
      "1000/1000 [==============================] - 597s 597ms/step - loss: 0.3789 - acc: 0.8783 - val_loss: 0.3897 - val_acc: 0.8934\n",
      "\n",
      "Epoch 00010: val_acc improved from 0.88443 to 0.89344, saving model to vgg_19_shoes.h5\n"
     ]
    }
   ],
   "source": [
    "# Train the model\n",
    "history = tr_model.fit_generator(\n",
    "                train_gen,\n",
    "                steps_per_epoch= 1000,\n",
    "                epochs=10,\n",
    "                validation_data = val_gen,\n",
    "                validation_steps = 200,\n",
    "                callbacks = [checkpoint,early_stop])"
   ]
  },
  {
   "cell_type": "code",
   "execution_count": 9,
   "metadata": {},
   "outputs": [],
   "source": [
    "tr_model.save(\"vanilla_shoes.h5\")"
   ]
  },
  {
   "cell_type": "code",
   "execution_count": 10,
   "metadata": {},
   "outputs": [
    {
     "data": {
      "image/png": "[encoded data removed]",
      "text/plain": [
       "<Figure size 432x288 with 1 Axes>"
      ]
     },
     "metadata": {},
     "output_type": "display_data"
    }
   ],
   "source": [
    "# Plot the Results\n",
    "plt.figure()\n",
    "plt.plot(history.history['acc'])\n",
    "plt.plot(history.history['val_acc'])\n",
    "plt.title('model_accuracy')\n",
    "plt.ylabel('accuracy')\n",
    "plt.xlabel('epoch')\n",
    "plt.legend(['train','test'])\n",
    "plt.savefig(model_name+'.jpg')"
   ]
  },
  {
   "cell_type": "code",
   "execution_count": null,
   "metadata": {},
   "outputs": [],
   "source": []
  }
 ],
 "metadata": {
  "kernelspec": {
   "display_name": "Python [conda env:tensorflow_p36]",
   "language": "python",
   "name": "conda-env-tensorflow_p36-py"
  },
  "language_info": {
   "codemirror_mode": {
    "name": "ipython",
    "version": 3
   },
   "file_extension": ".py",
   "mimetype": "text/x-python",
   "name": "python",
   "nbconvert_exporter": "python",
   "pygments_lexer": "ipython3",
   "version": "3.6.5"
  }
 },
 "nbformat": 4,
 "nbformat_minor": 2
}
