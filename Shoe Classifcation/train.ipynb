{
 "cells": [
  {
   "cell_type": "code",
   "execution_count": 10,
   "metadata": {},
   "outputs": [],
   "source": [
    "# Import Packages\n",
    "from keras.callbacks import ModelCheckpoint,LearningRateScheduler,EarlyStopping\n",
    "from keras.optimizers import Adam\n",
    "from models import model\n",
    "from utils import train_val_generator\n",
    "from matplotlib import pyplot as plt\n",
    "from keras.models import load_model\n",
    "from os.path import isfile"
   ]
  },
  {
   "cell_type": "code",
   "execution_count": 11,
   "metadata": {},
   "outputs": [],
   "source": [
    "# Training Parameters\n",
    "choices=['vgg_16','vgg_19','resnet_152','simple'] # All Models Available\n",
    "model_name = choices[1]\n",
    "\n",
    "is_transfer = True\n",
    "num_freeze_layer = 6\n",
    "num_classes = 4\n",
    "weights_path = 'resnet152_weights_tf.h5'\n",
    "input_shape = (224,224,3) # Input Shape for Resnet152"
   ]
  },
  {
   "cell_type": "code",
   "execution_count": 12,
   "metadata": {},
   "outputs": [],
   "source": [
    "# Path to Data\n",
    "train_path = './train'\n",
    "test_path ='./test'"
   ]
  },
  {
   "cell_type": "code",
   "execution_count": 13,
   "metadata": {},
   "outputs": [
    {
     "name": "stdout",
     "output_type": "stream",
     "text": [
      "_________________________________________________________________\n",
      "Layer (type)                 Output Shape              Param #   \n",
      "=================================================================\n",
      "input_4 (InputLayer)         (None, 224, 224, 3)       0         \n",
      "_________________________________________________________________\n",
      "block1_conv1 (Conv2D)        (None, 224, 224, 64)      1792      \n",
      "_________________________________________________________________\n",
      "block1_conv2 (Conv2D)        (None, 224, 224, 64)      36928     \n",
      "_________________________________________________________________\n",
      "block1_pool (MaxPooling2D)   (None, 112, 112, 64)      0         \n",
      "_________________________________________________________________\n",
      "block2_conv1 (Conv2D)        (None, 112, 112, 128)     73856     \n",
      "_________________________________________________________________\n",
      "block2_conv2 (Conv2D)        (None, 112, 112, 128)     147584    \n",
      "_________________________________________________________________\n",
      "block2_pool (MaxPooling2D)   (None, 56, 56, 128)       0         \n",
      "_________________________________________________________________\n",
      "block3_conv1 (Conv2D)        (None, 56, 56, 256)       295168    \n",
      "_________________________________________________________________\n",
      "block3_conv2 (Conv2D)        (None, 56, 56, 256)       590080    \n",
      "_________________________________________________________________\n",
      "block3_conv3 (Conv2D)        (None, 56, 56, 256)       590080    \n",
      "_________________________________________________________________\n",
      "block3_conv4 (Conv2D)        (None, 56, 56, 256)       590080    \n",
      "_________________________________________________________________\n",
      "block3_pool (MaxPooling2D)   (None, 28, 28, 256)       0         \n",
      "_________________________________________________________________\n",
      "block4_conv1 (Conv2D)        (None, 28, 28, 512)       1180160   \n",
      "_________________________________________________________________\n",
      "block4_conv2 (Conv2D)        (None, 28, 28, 512)       2359808   \n",
      "_________________________________________________________________\n",
      "block4_conv3 (Conv2D)        (None, 28, 28, 512)       2359808   \n",
      "_________________________________________________________________\n",
      "block4_conv4 (Conv2D)        (None, 28, 28, 512)       2359808   \n",
      "_________________________________________________________________\n",
      "block4_pool (MaxPooling2D)   (None, 14, 14, 512)       0         \n",
      "_________________________________________________________________\n",
      "block5_conv1 (Conv2D)        (None, 14, 14, 512)       2359808   \n",
      "_________________________________________________________________\n",
      "block5_conv2 (Conv2D)        (None, 14, 14, 512)       2359808   \n",
      "_________________________________________________________________\n",
      "block5_conv3 (Conv2D)        (None, 14, 14, 512)       2359808   \n",
      "_________________________________________________________________\n",
      "block5_conv4 (Conv2D)        (None, 14, 14, 512)       2359808   \n",
      "_________________________________________________________________\n",
      "block5_pool (MaxPooling2D)   (None, 7, 7, 512)         0         \n",
      "_________________________________________________________________\n",
      "flatten_2 (Flatten)          (None, 25088)             0         \n",
      "_________________________________________________________________\n",
      "dense_4 (Dense)              (None, 1024)              25691136  \n",
      "_________________________________________________________________\n",
      "dropout_2 (Dropout)          (None, 1024)              0         \n",
      "_________________________________________________________________\n",
      "dense_5 (Dense)              (None, 1024)              1049600   \n",
      "_________________________________________________________________\n",
      "dense_6 (Dense)              (None, 4)                 4100      \n",
      "=================================================================\n",
      "Total params: 46,769,220\n",
      "Trainable params: 46,509,060\n",
      "Non-trainable params: 260,160\n",
      "_________________________________________________________________\n"
     ]
    }
   ],
   "source": [
    "# Model for Traning\n",
    "tr_model = model(model_name,num_classes,is_transfer,\n",
    "                num_freeze_layer,weights_path,input_shape)"
   ]
  },
  {
   "cell_type": "code",
   "execution_count": 14,
   "metadata": {},
   "outputs": [
    {
     "name": "stdout",
     "output_type": "stream",
     "text": [
      "Found 42994 images belonging to 4 classes.\n",
      "Found 7031 images belonging to 4 classes.\n"
     ]
    }
   ],
   "source": [
    "# Train and Test generator\n",
    "train_gen, val_gen = train_val_generator(32,train_path,test_path)"
   ]
  },
  {
   "cell_type": "code",
   "execution_count": 15,
   "metadata": {},
   "outputs": [
    {
     "name": "stdout",
     "output_type": "stream",
     "text": [
      "Loading previously trained weights and continue traning.....\n",
      "vgg_19.h5\n"
     ]
    }
   ],
   "source": [
    "# Load last model if exists\n",
    "#model_name = model_name+'.h5'\n",
    "if isfile(model_name+\".h5\"):\n",
    "    print('Loading previously trained weights and continue traning.....')\n",
    "    tr_model = load_model(model_name+\".h5\")\n",
    "else:\n",
    "    print('No saved weights found.')\n",
    "    \n",
    "print(model_name+\".h5\")"
   ]
  },
  {
   "cell_type": "code",
   "execution_count": 19,
   "metadata": {},
   "outputs": [],
   "source": [
    "# Model saving\n",
    "checkpoint = ModelCheckpoint(model_name+'.h5',monitor='val_acc',verbose=1,save_best_only=True)\n",
    "early_stop = EarlyStopping(monitor='val_acc',min_delta=0,patience=5,verbose=1,mode='auto')\n",
    "\n",
    "# Compile the model\n",
    "tr_model.compile(loss='categorical_crossentropy',optimizer=Adam(1e-5),metrics=['accuracy'])\n"
   ]
  },
  {
   "cell_type": "code",
   "execution_count": null,
   "metadata": {},
   "outputs": [
    {
     "name": "stdout",
     "output_type": "stream",
     "text": [
      "Epoch 1/30\n",
      "1400/1400 [==============================] - 857s 612ms/step - loss: 0.1635 - acc: 0.9409 - val_loss: 0.1448 - val_acc: 0.9461\n",
      "\n",
      "Epoch 00001: val_acc improved from -inf to 0.94606, saving model to vgg_19.h5\n",
      "Epoch 2/30\n",
      "1400/1400 [==============================] - 856s 611ms/step - loss: 0.1607 - acc: 0.9393 - val_loss: 0.1362 - val_acc: 0.9502\n",
      "\n",
      "Epoch 00002: val_acc improved from 0.94606 to 0.95019, saving model to vgg_19.h5\n",
      "Epoch 3/30\n",
      "1400/1400 [==============================] - 854s 610ms/step - loss: 0.1507 - acc: 0.9439 - val_loss: 0.1430 - val_acc: 0.9477\n",
      "\n",
      "Epoch 00003: val_acc did not improve from 0.95019\n",
      "Epoch 4/30\n",
      "1400/1400 [==============================] - 854s 610ms/step - loss: 0.1514 - acc: 0.9439 - val_loss: 0.1426 - val_acc: 0.9483\n",
      "\n",
      "Epoch 00004: val_acc did not improve from 0.95019\n",
      "Epoch 5/30\n",
      "1400/1400 [==============================] - 853s 609ms/step - loss: 0.1454 - acc: 0.9456 - val_loss: 0.1419 - val_acc: 0.9474\n",
      "\n",
      "Epoch 00005: val_acc did not improve from 0.95019\n",
      "Epoch 6/30\n",
      "1196/1400 [========================>.....] - ETA: 1:55 - loss: 0.1426 - acc: 0.9475"
     ]
    }
   ],
   "source": [
    "# Train the model\n",
    "history = tr_model.fit_generator(\n",
    "                train_gen,\n",
    "                steps_per_epoch=1400,\n",
    "                epochs=30,\n",
    "                validation_data = val_gen,\n",
    "                validation_steps = 250,\n",
    "                callbacks = [checkpoint,early_stop])"
   ]
  },
  {
   "cell_type": "code",
   "execution_count": null,
   "metadata": {},
   "outputs": [],
   "source": []
  }
 ],
 "metadata": {
  "kernelspec": {
   "display_name": "Python [conda env:tensorflow_p36]",
   "language": "python",
   "name": "conda-env-tensorflow_p36-py"
  }
 },
 "nbformat": 4,
 "nbformat_minor": 2
}
