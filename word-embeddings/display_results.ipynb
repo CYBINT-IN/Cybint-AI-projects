{
 "cells": [
  {
   "cell_type": "code",
   "execution_count": 1,
   "metadata": {},
   "outputs": [],
   "source": [
    "import gensim\n",
    "import matplotlib.pyplot as plt\n",
    "\n",
    "from sklearn.decomposition import PCA"
   ]
  },
  {
   "cell_type": "code",
   "execution_count": 2,
   "metadata": {},
   "outputs": [],
   "source": [
    "model = gensim.models.FastText.load(\"model.model\")"
   ]
  },
  {
   "cell_type": "code",
   "execution_count": 3,
   "metadata": {},
   "outputs": [],
   "source": [
    "most_similars_precalc = {word : model.wv.most_similar(word, topn = 3) for word in model.wv.index2word}"
   ]
  },
  {
   "cell_type": "code",
   "execution_count": 4,
   "metadata": {},
   "outputs": [
    {
     "name": "stdout",
     "output_type": "stream",
     "text": [
      "<UNK> [('marcus', 0.5368741154670715), ('lennon', 0.52900230884552), ('aristocrat', 0.5274332165718079)]\n",
      "the [(\"'the\", 0.5289022922515869), ('his', 0.5058464407920837), (\"its'\", 0.47931212186813354)]\n",
      "and [('but', 0.43539369106292725), ('nor', 0.35933446884155273), ('including', 0.33515334129333496)]\n",
      "a [(\"'a\", 0.36023348569869995), ('another', 0.33916646242141724), ('semi', 0.3387641906738281)]\n",
      "of [('amongst', 0.4476013481616974), ('among', 0.42068397998809814), (\"'s\", 0.4044751524925232)]\n",
      "to [(\"he'll\", 0.5251280069351196), ('auto', 0.5216183662414551), (\"it'll\", 0.5213943719863892)]\n",
      "is [('was', 0.7726057171821594), (\"isn't\", 0.6551508903503418), (\"wasn't\", 0.5227319002151489)]\n",
      "br [('anyway', 0.6250268816947937), ('anyways', 0.5249764919281006), ('overall', 0.4937621057033539)]\n",
      "in [('within', 0.5050027370452881), ('during', 0.4966234266757965), ('onto', 0.4384421706199646)]\n",
      "it [('he', 0.6408196091651917), ('she', 0.6280704736709595), ('item', 0.5524276494979858)]\n"
     ]
    }
   ],
   "source": [
    "for i, (key, value) in enumerate(most_similars_precalc.items()):\n",
    "    if i == 10:\n",
    "        break\n",
    "    print(key, value)"
   ]
  },
  {
   "cell_type": "code",
   "execution_count": 5,
   "metadata": {},
   "outputs": [
    {
     "name": "stdout",
     "output_type": "stream",
     "text": [
      "[('lurking', 0.5726265907287598), ('kingsley', 0.5604714155197144), ('kings', 0.5336114764213562), ('joking', 0.5236150026321411), ('smoking', 0.5200926065444946)]\n"
     ]
    }
   ],
   "source": [
    "# king - man = woman - result\n",
    "result = model.wv.most_similar(positive=['woman', 'king'], negative = ['man'], topn = 5)\n",
    "print(result)"
   ]
  },
  {
   "cell_type": "code",
   "execution_count": 6,
   "metadata": {},
   "outputs": [],
   "source": [
    "X = model.wv[model.wv.vocab]"
   ]
  },
  {
   "cell_type": "code",
   "execution_count": 7,
   "metadata": {},
   "outputs": [],
   "source": [
    "pca = PCA(n_components = 2)\n",
    "result = pca.fit_transform(X)"
   ]
  },
  {
   "cell_type": "code",
   "execution_count": 8,
   "metadata": {},
   "outputs": [
    {
     "data": {
      "image/png": "[encoded data removed]",
      "text/plain": [
       "<Figure size 432x288 with 1 Axes>"
      ]
     },
     "metadata": {
      "needs_background": "light"
     },
     "output_type": "display_data"
    },
    {
     "data": {
      "text/plain": [
       "<Figure size 720000x720000 with 0 Axes>"
      ]
     },
     "metadata": {},
     "output_type": "display_data"
    }
   ],
   "source": [
    "plt.scatter(result[:20, 0], result[:20, 1])\n",
    "words = list(model.wv.vocab)\n",
    "for i, word in enumerate(words[:20]):\n",
    "\tplt.annotate(word, xy = (result[i, 0], result[i, 1]))\n",
    "plt.figure(figsize = (10000., 10000.))\n",
    "plt.show()"
   ]
  },
  {
   "cell_type": "code",
   "execution_count": null,
   "metadata": {},
   "outputs": [],
   "source": []
  }
 ],
 "metadata": {
  "kernelspec": {
   "display_name": "Python 3",
   "language": "python",
   "name": "python3"
  },
  "language_info": {
   "codemirror_mode": {
    "name": "ipython",
    "version": 3
   },
   "file_extension": ".py",
   "mimetype": "text/x-python",
   "name": "python",
   "nbconvert_exporter": "python",
   "pygments_lexer": "ipython3",
   "version": "3.7.6"
  }
 },
 "nbformat": 4,
 "nbformat_minor": 4
}
