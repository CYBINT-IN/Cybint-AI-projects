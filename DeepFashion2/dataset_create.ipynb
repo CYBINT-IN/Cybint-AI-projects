{
 "cells": [
  {
   "cell_type": "code",
   "execution_count": null,
   "metadata": {},
   "outputs": [],
   "source": [
    "# Run cell only once, packages are specific to application\n",
    "!pip install selectivesearch\n",
    "!pip install colored-traceback\n",
    "!pip install scikit-image==0.15\n",
    "!pip install numpy==1.16"
   ]
  },
  {
   "cell_type": "code",
   "execution_count": 1,
   "metadata": {},
   "outputs": [
    {
     "name": "stderr",
     "output_type": "stream",
     "text": [
      "Using TensorFlow backend.\n",
      "[ 211 : switch_backend                 ] Loaded backend module://ipykernel.pylab.backend_inline version unknown.\n"
     ]
    }
   ],
   "source": [
    "from config import *\n",
    "from selective_search import selective_search_bbox"
   ]
  },
  {
   "cell_type": "code",
   "execution_count": 2,
   "metadata": {},
   "outputs": [],
   "source": [
    "def create_dataset_split_structure():\n",
    "    if not os.path.exists(dataset_path):\n",
    "        os.makedirs(dataset_path)\n",
    "\n",
    "    if not os.path.exists(dataset_train_path):\n",
    "        os.makedirs(dataset_train_path)\n",
    "\n",
    "    if not os.path.exists(dataset_val_path):\n",
    "        os.makedirs(dataset_val_path)\n",
    "\n",
    "    if not os.path.exists(dataset_test_path):\n",
    "        os.makedirs(dataset_test_path)"
   ]
  },
  {
   "cell_type": "code",
   "execution_count": null,
   "metadata": {},
   "outputs": [],
   "source": []
  }
 ],
 "metadata": {
  "kernelspec": {
   "display_name": "Python [conda env:tensorflow_p36]",
   "language": "python",
   "name": "conda-env-tensorflow_p36-py"
  },
  "language_info": {
   "codemirror_mode": {
    "name": "ipython",
    "version": 3
   },
   "file_extension": ".py",
   "mimetype": "text/x-python",
   "name": "python",
   "nbconvert_exporter": "python",
   "pygments_lexer": "ipython3",
   "version": "3.6.5"
  }
 },
 "nbformat": 4,
 "nbformat_minor": 2
}
