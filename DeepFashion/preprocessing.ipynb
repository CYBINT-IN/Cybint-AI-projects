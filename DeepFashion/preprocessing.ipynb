{
 "cells": [
  {
   "cell_type": "code",
   "execution_count": 1,
   "metadata": {},
   "outputs": [],
   "source": [
    "# Library Imports\n",
    "import shutil\n",
    "import os\n",
    "import re\n",
    "import cv2\n",
    "import numpy as np\n",
    "from six.moves import range"
   ]
  },
  {
   "cell_type": "code",
   "execution_count": 2,
   "metadata": {},
   "outputs": [],
   "source": [
    "# Regular Expression for splitting by whitespace\n",
    "splitter = re.compile(\"\\s+\")\n",
    "base_path = './data'"
   ]
  },
  {
   "cell_type": "code",
   "execution_count": 3,
   "metadata": {},
   "outputs": [],
   "source": [
    "# Read the relevant annotation file and preprocess it\n",
    "with open('./category/eval/list_eval_partition.txt', 'r') as eval_partition_file:\n",
    "    list_eval_partition = [line.rstrip('\\n') for line in eval_partition_file][2:]\n",
    "    list_eval_partition = [splitter.split(line) for line in list_eval_partition]\n",
    "    list_all = [(v[0][4:], v[0].split('/')[1].split('_')[-1], v[1]) for v in list_eval_partition]"
   ]
  },
  {
   "cell_type": "code",
   "execution_count": 4,
   "metadata": {},
   "outputs": [],
   "source": [
    "# Put each image into the relevant folder in train/test/validation folder\n",
    "for element in list_all:\n",
    "    if not os.path.exists(os.path.join(base_path, element[2])):\n",
    "        os.mkdir(os.path.join(base_path, element[2]))\n",
    "    if not os.path.exists(os.path.join(os.path.join(base_path, element[2]), element[1])):\n",
    "        os.mkdir(os.path.join(os.path.join(base_path, element[2]), element[1]))\n",
    "    if not os.path.exists(os.path.join(os.path.join(os.path.join(os.path.join(base_path, element[2]), element[1])),\n",
    "                          element[0].split('/')[0])):\n",
    "        os.mkdir(os.path.join(os.path.join(os.path.join(os.path.join(base_path, element[2]), element[1])),\n",
    "                 element[0].split('/')[0]))\n",
    "    shutil.move(os.path.join(base_path, element[0]),\n",
    "                os.path.join(os.path.join(os.path.join(base_path, element[2]), element[1]), element[0]))"
   ]
  },
  {
   "cell_type": "code",
   "execution_count": 5,
   "metadata": {},
   "outputs": [],
   "source": [
    "# Get and Create Bounding Boxes\n",
    "def create_dict_bboxes(list_all, split='train'):\n",
    "    lst = [(line[0], line[1], line[3], line[2]) for line in list_all if line[2] == split]\n",
    "    lst = [(\"\".join(line[0].split('/')[0] + '/' + line[3] + '/' + line[1] + line[0][3:]), line[1], line[2]) for line in lst]\n",
    "    lst_shape = [cv2.imread('./data/' + line[0]).shape for line in lst]\n",
    "    lst = [(line[0], line[1], (round(line[2][0] / shape[1], 2), round(line[2][1] / shape[0], 2), round(line[2][2] / shape[1], 2), round(line[2][3] / shape[0], 2))) for line, shape in zip(lst, lst_shape)]\n",
    "    dict_ = {\"/\".join(line[0].split('/')[2:]): {'x1': line[2][0], 'y1': line[2][1], 'x2': line[2][2], 'y2': line[2][3], 'shape': line[2][4]} for line in lst}\n",
    "    return dict_\n",
    "\n",
    "def get_dict_bboxes():\n",
    "    with open('./data/anno/list_category_img.txt', 'r') as category_img_file, \\\n",
    "            open('./data/anno/list_eval_partition.txt', 'r') as eval_partition_file, \\\n",
    "            open('./data/anno/list_bbox.txt', 'r') as bbox_file:\n",
    "        list_category_img = [line.rstrip('\\n') for line in category_img_file][2:]\n",
    "        list_eval_partition = [line.rstrip('\\n') for line in eval_partition_file][2:]\n",
    "        list_bbox = [line.rstrip('\\n') for line in bbox_file][2:]\n",
    "\n",
    "        list_category_img = [splitter.split(line) for line in list_category_img]\n",
    "        list_eval_partition = [splitter.split(line) for line in list_eval_partition]\n",
    "        list_bbox = [splitter.split(line) for line in list_bbox]\n",
    "\n",
    "        list_all = [(k[0], k[0].split('/')[1].split('_')[-1], v[1], (int(b[1]), int(b[2]), int(b[3]), int(b[4])))\n",
    "                    for k, v, b in zip(list_category_img, list_eval_partition, list_bbox)]\n",
    "\n",
    "        list_all.sort(key=lambda x: x[1])\n",
    "\n",
    "        dict_train = create_dict_bboxes(list_all)\n",
    "        dict_val = create_dict_bboxes(list_all, split='val')\n",
    "        dict_test = create_dict_bboxes(list_all, split='test')\n",
    "\n",
    "        return dict_train, dict_val, dict_test"
   ]
  }
 ],
 "metadata": {
  "kernelspec": {
   "display_name": "Python [conda env:tensorflow_p36]",
   "language": "python",
   "name": "conda-env-tensorflow_p36-py"
  },
  "language_info": {
   "codemirror_mode": {
    "name": "ipython",
    "version": 3
   },
   "file_extension": ".py",
   "mimetype": "text/x-python",
   "name": "python",
   "nbconvert_exporter": "python",
   "pygments_lexer": "ipython3",
   "version": "3.6.5"
  }
 },
 "nbformat": 4,
 "nbformat_minor": 2
}
