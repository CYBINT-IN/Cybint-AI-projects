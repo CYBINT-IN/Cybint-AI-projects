{
  "nbformat": 4,
  "nbformat_minor": 0,
  "metadata": {
    "colab": {
      "name": "DeepFashion.ipynb",
      "provenance": []
    },
    "kernelspec": {
      "name": "python3",
      "display_name": "Python 3"
    },
    "accelerator": "GPU"
  },
  "cells": [
    {
      "cell_type": "code",
      "metadata": {
        "id": "vK6epEIa2xvA",
        "colab_type": "code",
        "colab": {
          "base_uri": "https://localhost:8080/",
          "height": 121
        },
        "outputId": "18e89379-4f19-43e5-e098-20bbb50bf5c0"
      },
      "source": [
        "from google.colab import drive\n",
        "drive.mount('/content/drive')"
      ],
      "execution_count": 1,
      "outputs": [
        {
          "output_type": "stream",
          "text": [
            "Go to this URL in a browser: https://accounts.google.com/o/oauth2/auth?client_id=947318989803-6bn6qk8qdgf4n4g3pfee6491hc0brc4i.apps.googleusercontent.com&redirect_uri=urn%3aietf%3awg%3aoauth%3a2.0%3aoob&response_type=code&scope=email%20https%3a%2f%2fwww.googleapis.com%2fauth%2fdocs.test%20https%3a%2f%2fwww.googleapis.com%2fauth%2fdrive%20https%3a%2f%2fwww.googleapis.com%2fauth%2fdrive.photos.readonly%20https%3a%2f%2fwww.googleapis.com%2fauth%2fpeopleapi.readonly\n",
            "\n",
            "Enter your authorization code:\n",
            "··········\n",
            "Mounted at /content/drive\n"
          ],
          "name": "stdout"
        }
      ]
    },
    {
      "cell_type": "code",
      "metadata": {
        "id": "dP_579hq28vn",
        "colab_type": "code",
        "colab": {
          "base_uri": "https://localhost:8080/",
          "height": 34
        },
        "outputId": "5537fdf7-b64d-49a5-f667-9a0aed7ba933"
      },
      "source": [
        "!ls"
      ],
      "execution_count": 2,
      "outputs": [
        {
          "output_type": "stream",
          "text": [
            "drive  sample_data\n"
          ],
          "name": "stdout"
        }
      ]
    },
    {
      "cell_type": "code",
      "metadata": {
        "id": "Vl7QiuuS3EE_",
        "colab_type": "code",
        "colab": {
          "base_uri": "https://localhost:8080/",
          "height": 34
        },
        "outputId": "f30e5c8d-3283-4d0a-8dad-c1ec87ab68d1"
      },
      "source": [
        "!rm -rf data\n",
        "!ls"
      ],
      "execution_count": 3,
      "outputs": [
        {
          "output_type": "stream",
          "text": [
            "drive  sample_data\n"
          ],
          "name": "stdout"
        }
      ]
    },
    {
      "cell_type": "code",
      "metadata": {
        "id": "sl-bUqrb3HkQ",
        "colab_type": "code",
        "colab": {
          "base_uri": "https://localhost:8080/",
          "height": 373
        },
        "outputId": "7e16ef0b-ae46-4a76-ea2f-bdde7a7d08e4"
      },
      "source": [
        "!echo --------Downloading img.zip--------\n",
        "!wget --load-cookies /tmp/cookies.txt \"https://docs.google.com/uc?export=download&confirm=$(wget --quiet --save-cookies /tmp/cookies.txt --keep-session-cookies --no-check-certificate 'https://docs.google.com/uc?export=download&id=0B7EVK8r0v71pa2EyNEJ0dE9zbU0' -O- | sed -rn 's/.*confirm=([0-9A-Za-z_]+).*/\\1\\n/p')&id=0B7EVK8r0v71pa2EyNEJ0dE9zbU0\" -O deepfashion_img.zip\n",
        "!rm -rf /tmp/cookies.txt\n",
        "\n",
        "!echo --------Data download--------\n",
        "!ls"
      ],
      "execution_count": 4,
      "outputs": [
        {
          "output_type": "stream",
          "text": [
            "--------Downloading img.zip--------\n",
            "--2019-12-08 04:55:42--  https://docs.google.com/uc?export=download&confirm=P2Gi&id=0B7EVK8r0v71pa2EyNEJ0dE9zbU0\n",
            "Resolving docs.google.com (docs.google.com)... 74.125.200.138, 74.125.200.100, 74.125.200.113, ...\n",
            "Connecting to docs.google.com (docs.google.com)|74.125.200.138|:443... connected.\n",
            "HTTP request sent, awaiting response... 302 Moved Temporarily\n",
            "Location: https://doc-14-84-docs.googleusercontent.com/docs/securesc/ha0ro937gcuc7l7deffksulhg5h7mbp1/k9piis9lhpdc8ch8jl5618lf28tbljh7/1575777600000/13182073909007362810/*/0B7EVK8r0v71pa2EyNEJ0dE9zbU0?e=download [following]\n",
            "Warning: wildcards not supported in HTTP.\n",
            "--2019-12-08 04:55:42--  https://doc-14-84-docs.googleusercontent.com/docs/securesc/ha0ro937gcuc7l7deffksulhg5h7mbp1/k9piis9lhpdc8ch8jl5618lf28tbljh7/1575777600000/13182073909007362810/*/0B7EVK8r0v71pa2EyNEJ0dE9zbU0?e=download\n",
            "Resolving doc-14-84-docs.googleusercontent.com (doc-14-84-docs.googleusercontent.com)... 74.125.200.132, 2404:6800:4003:c00::84\n",
            "Connecting to doc-14-84-docs.googleusercontent.com (doc-14-84-docs.googleusercontent.com)|74.125.200.132|:443... connected.\n",
            "HTTP request sent, awaiting response... 200 OK\n",
            "Length: unspecified [application/zip]\n",
            "Saving to: ‘deepfashion_img.zip’\n",
            "\n",
            "deepfashion_img.zip     [ <=>                ]   2.50G  55.6MB/s    in 55s     \n",
            "\n",
            "2019-12-08 04:56:38 (46.8 MB/s) - ‘deepfashion_img.zip’ saved [2681199362]\n",
            "\n",
            "--------Data download--------\n",
            "deepfashion_img.zip  drive  sample_data\n"
          ],
          "name": "stdout"
        }
      ]
    },
    {
      "cell_type": "code",
      "metadata": {
        "id": "VWIUcD-G31vu",
        "colab_type": "code",
        "colab": {
          "base_uri": "https://localhost:8080/",
          "height": 373
        },
        "outputId": "6c2aa4dd-4b18-4c15-8242-e8d37efe3812"
      },
      "source": [
        "!echo --------Downloading list_eval_partition.txt--------\n",
        "!wget --load-cookies /tmp/cookies.txt \"https://docs.google.com/uc?export=download&confirm=$(wget --quiet --save-cookies /tmp/cookies.txt --keep-session-cookies --no-check-certificate 'https://docs.google.com/uc?export=download&id=0B7EVK8r0v71pdS1FMlNreEwtc1E' -O- | sed -rn 's/.*confirm=([0-9A-Za-z_]+).*/\\1\\n/p')&id=0B7EVK8r0v71pdS1FMlNreEwtc1E\" -O list_eval_partition.txt\n",
        "!rm -rf /tmp/cookies.txt\n",
        "\n",
        "!echo --------Data download--------\n",
        "!ls"
      ],
      "execution_count": 5,
      "outputs": [
        {
          "output_type": "stream",
          "text": [
            "--------Downloading list_eval_partition.txt--------\n",
            "--2019-12-08 04:58:58--  https://docs.google.com/uc?export=download&confirm=&id=0B7EVK8r0v71pdS1FMlNreEwtc1E\n",
            "Resolving docs.google.com (docs.google.com)... 74.125.200.139, 74.125.200.102, 74.125.200.101, ...\n",
            "Connecting to docs.google.com (docs.google.com)|74.125.200.139|:443... connected.\n",
            "HTTP request sent, awaiting response... 302 Moved Temporarily\n",
            "Location: https://doc-0o-84-docs.googleusercontent.com/docs/securesc/ha0ro937gcuc7l7deffksulhg5h7mbp1/poi8gg8f90kvf2c9i5nt5vlv8i0hbduu/1575777600000/13182073909007362810/*/0B7EVK8r0v71pdS1FMlNreEwtc1E?e=download [following]\n",
            "Warning: wildcards not supported in HTTP.\n",
            "--2019-12-08 04:58:59--  https://doc-0o-84-docs.googleusercontent.com/docs/securesc/ha0ro937gcuc7l7deffksulhg5h7mbp1/poi8gg8f90kvf2c9i5nt5vlv8i0hbduu/1575777600000/13182073909007362810/*/0B7EVK8r0v71pdS1FMlNreEwtc1E?e=download\n",
            "Resolving doc-0o-84-docs.googleusercontent.com (doc-0o-84-docs.googleusercontent.com)... 74.125.200.132, 2404:6800:4003:c00::84\n",
            "Connecting to doc-0o-84-docs.googleusercontent.com (doc-0o-84-docs.googleusercontent.com)|74.125.200.132|:443... connected.\n",
            "HTTP request sent, awaiting response... 200 OK\n",
            "Length: unspecified [text/plain]\n",
            "Saving to: ‘list_eval_partition.txt’\n",
            "\n",
            "list_eval_partition     [ <=>                ]  21.12M  --.-KB/s    in 0.09s   \n",
            "\n",
            "2019-12-08 04:58:59 (234 MB/s) - ‘list_eval_partition.txt’ saved [22150149]\n",
            "\n",
            "--------Data download--------\n",
            "deepfashion_img.zip  drive  list_eval_partition.txt  sample_data\n"
          ],
          "name": "stdout"
        }
      ]
    },
    {
      "cell_type": "code",
      "metadata": {
        "id": "3y27jctJ4G-3",
        "colab_type": "code",
        "colab": {
          "base_uri": "https://localhost:8080/",
          "height": 373
        },
        "outputId": "62028c73-4d29-4e61-ac35-52ae3da11c0f"
      },
      "source": [
        "!echo --------Downloading Anno.zip--------\n",
        "!wget --load-cookies /tmp/cookies.txt \"https://docs.google.com/uc?export=download&confirm=$(wget --quiet --save-cookies /tmp/cookies.txt --keep-session-cookies --no-check-certificate 'https://docs.google.com/uc?export=download&id=1-zjMCY-YERKhA9OmV78j-s678n_qAqPb' -O- | sed -rn 's/.*confirm=([0-9A-Za-z_]+).*/\\1\\n/p')&id=1-zjMCY-YERKhA9OmV78j-s678n_qAqPb\" -O Anno.zip\n",
        "!rm -rf /tmp/cookies.txt\n",
        "\n",
        "!echo --------Data download--------\n",
        "!ls"
      ],
      "execution_count": 6,
      "outputs": [
        {
          "output_type": "stream",
          "text": [
            "--------Downloading Anno.zip--------\n",
            "--2019-12-08 04:59:51--  https://docs.google.com/uc?export=download&confirm=&id=1-zjMCY-YERKhA9OmV78j-s678n_qAqPb\n",
            "Resolving docs.google.com (docs.google.com)... 74.125.24.138, 74.125.24.113, 74.125.24.102, ...\n",
            "Connecting to docs.google.com (docs.google.com)|74.125.24.138|:443... connected.\n",
            "HTTP request sent, awaiting response... 302 Moved Temporarily\n",
            "Location: https://doc-00-54-docs.googleusercontent.com/docs/securesc/ha0ro937gcuc7l7deffksulhg5h7mbp1/k8mhi7oqebimavkjtrmbshdoel7jgu7f/1575777600000/03307123913596985380/*/1-zjMCY-YERKhA9OmV78j-s678n_qAqPb?e=download [following]\n",
            "Warning: wildcards not supported in HTTP.\n",
            "--2019-12-08 04:59:52--  https://doc-00-54-docs.googleusercontent.com/docs/securesc/ha0ro937gcuc7l7deffksulhg5h7mbp1/k8mhi7oqebimavkjtrmbshdoel7jgu7f/1575777600000/03307123913596985380/*/1-zjMCY-YERKhA9OmV78j-s678n_qAqPb?e=download\n",
            "Resolving doc-00-54-docs.googleusercontent.com (doc-00-54-docs.googleusercontent.com)... 74.125.200.132, 2404:6800:4003:c00::84\n",
            "Connecting to doc-00-54-docs.googleusercontent.com (doc-00-54-docs.googleusercontent.com)|74.125.200.132|:443... connected.\n",
            "HTTP request sent, awaiting response... 200 OK\n",
            "Length: unspecified [application/zip]\n",
            "Saving to: ‘Anno.zip’\n",
            "\n",
            "Anno.zip                [ <=>                ]  17.69M  --.-KB/s    in 0.07s   \n",
            "\n",
            "2019-12-08 04:59:52 (268 MB/s) - ‘Anno.zip’ saved [18547214]\n",
            "\n",
            "--------Data download--------\n",
            "Anno.zip  deepfashion_img.zip  drive  list_eval_partition.txt  sample_data\n"
          ],
          "name": "stdout"
        }
      ]
    },
    {
      "cell_type": "code",
      "metadata": {
        "id": "IRfBc2wM4eav",
        "colab_type": "code",
        "colab": {
          "base_uri": "https://localhost:8080/",
          "height": 67
        },
        "outputId": "007ba644-b7ee-4c4b-cf59-8749d58d27f4"
      },
      "source": [
        "!echo --------Creating paths---------\n",
        "!mkdir data\n",
        "!mkdir data/val\n",
        "!mkdir data/Anno\n",
        "!mkdir data/Eval\n",
        "\n",
        "!echo --------ls into data/---------\n",
        "!ls data"
      ],
      "execution_count": 7,
      "outputs": [
        {
          "output_type": "stream",
          "text": [
            "--------Creating paths---------\n",
            "--------ls into data/---------\n",
            "Anno  Eval  val\n"
          ],
          "name": "stdout"
        }
      ]
    },
    {
      "cell_type": "code",
      "metadata": {
        "id": "AjHLHwTE4p8R",
        "colab_type": "code",
        "colab": {
          "base_uri": "https://localhost:8080/",
          "height": 67
        },
        "outputId": "05469ce3-9436-4365-df75-c7b36e4b426d"
      },
      "source": [
        "!echo --------moving the .zip files---------\n",
        "!mv ./deepfashion_img.zip ./data/\n",
        "!mv list_eval_partition.txt ./data/Eval/\n",
        "!mv ./Anno.zip ./data/Anno/\n",
        "\n",
        "!echo --------moved Data--------\n",
        "!ls"
      ],
      "execution_count": 8,
      "outputs": [
        {
          "output_type": "stream",
          "text": [
            "--------moving the .zip files---------\n",
            "--------moved Data--------\n",
            "data  drive  sample_data\n"
          ],
          "name": "stdout"
        }
      ]
    },
    {
      "cell_type": "code",
      "metadata": {
        "id": "DAAnidOy454p",
        "colab_type": "code",
        "colab": {
          "base_uri": "https://localhost:8080/",
          "height": 286
        },
        "outputId": "ca0c306b-d8fe-447c-9c54-3c1a07d03709"
      },
      "source": [
        "!echo --------installing unzip---------\n",
        "!apt-get install unzip"
      ],
      "execution_count": 9,
      "outputs": [
        {
          "output_type": "stream",
          "text": [
            "--------installing unzip---------\n",
            "Reading package lists... Done\n",
            "Building dependency tree       \n",
            "Reading state information... Done\n",
            "unzip is already the newest version (6.0-21ubuntu1).\n",
            "The following packages were automatically installed and are no longer required:\n",
            "  cuda-cufft-10-1 cuda-cufft-dev-10-1 cuda-curand-10-1 cuda-curand-dev-10-1\n",
            "  cuda-cusolver-10-1 cuda-cusolver-dev-10-1 cuda-cusparse-10-1\n",
            "  cuda-cusparse-dev-10-1 cuda-license-10-2 cuda-npp-10-1 cuda-npp-dev-10-1\n",
            "  cuda-nsight-10-1 cuda-nsight-compute-10-1 cuda-nsight-systems-10-1\n",
            "  cuda-nvgraph-10-1 cuda-nvgraph-dev-10-1 cuda-nvjpeg-10-1\n",
            "  cuda-nvjpeg-dev-10-1 cuda-nvrtc-10-1 cuda-nvrtc-dev-10-1 cuda-nvvp-10-1\n",
            "  libcublas10 libnvidia-common-430 nsight-compute-2019.5.0\n",
            "  nsight-systems-2019.5.2\n",
            "Use 'apt autoremove' to remove them.\n",
            "0 upgraded, 0 newly installed, 0 to remove and 5 not upgraded.\n"
          ],
          "name": "stdout"
        }
      ]
    },
    {
      "cell_type": "code",
      "metadata": {
        "id": "QYskUKCm5AlA",
        "colab_type": "code",
        "colab": {
          "base_uri": "https://localhost:8080/",
          "height": 34
        },
        "outputId": "d7a5ddcf-aa6d-45c6-b9b4-9ab6f08d1200"
      },
      "source": [
        "!ls data/"
      ],
      "execution_count": 10,
      "outputs": [
        {
          "output_type": "stream",
          "text": [
            "Anno  deepfashion_img.zip  Eval  val\n"
          ],
          "name": "stdout"
        }
      ]
    },
    {
      "cell_type": "code",
      "metadata": {
        "id": "1FxJqnZK5EcH",
        "colab_type": "code",
        "colab": {
          "base_uri": "https://localhost:8080/",
          "height": 101
        },
        "outputId": "6a10d5c9-60e6-4855-d48f-ad03a1ffad40"
      },
      "source": [
        "!echo --------unziping---------\n",
        "!unzip -qq ./data/deepfashion_img.zip -d ./data/\n",
        "!unzip -qq ./data/Anno/Anno.zip -d ./data/Anno/\n",
        "\n",
        "!ls ./data/img/ -U | head -4"
      ],
      "execution_count": 11,
      "outputs": [
        {
          "output_type": "stream",
          "text": [
            "--------unziping---------\n",
            "Tie-Dye_Sweatshorts\n",
            "Ribbed-Trim_Sheath_Dress\n",
            "Lace_Panel_Pintucked_Blouse\n",
            "Abstract-Quilted_Drawstring_Hoodie\n"
          ],
          "name": "stdout"
        }
      ]
    },
    {
      "cell_type": "code",
      "metadata": {
        "id": "nbKO-8AP5J9Y",
        "colab_type": "code",
        "colab": {
          "base_uri": "https://localhost:8080/",
          "height": 34
        },
        "outputId": "58d697ce-bf29-4142-a190-a0db8275ba3f"
      },
      "source": [
        "!echo --------romoving .zip files---------\n",
        "!rm -rf ./data/deepfashion_img.zip\n",
        "!rm -rf ./data/Anno/Anno.zip"
      ],
      "execution_count": 12,
      "outputs": [
        {
          "output_type": "stream",
          "text": [
            "--------romoving .zip files---------\n"
          ],
          "name": "stdout"
        }
      ]
    },
    {
      "cell_type": "code",
      "metadata": {
        "id": "b0uwj5sg5RvX",
        "colab_type": "code",
        "colab": {
          "base_uri": "https://localhost:8080/",
          "height": 84
        },
        "outputId": "13c37e2c-5ea0-42da-9d03-45cb57cad95e"
      },
      "source": [
        "!ls ./data/img/ -U | head -4"
      ],
      "execution_count": 13,
      "outputs": [
        {
          "output_type": "stream",
          "text": [
            "Tie-Dye_Sweatshorts\n",
            "Ribbed-Trim_Sheath_Dress\n",
            "Lace_Panel_Pintucked_Blouse\n",
            "Abstract-Quilted_Drawstring_Hoodie\n"
          ],
          "name": "stdout"
        }
      ]
    }
  ]
}