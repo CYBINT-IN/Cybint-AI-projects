{
  "nbformat": 4,
  "nbformat_minor": 0,
  "metadata": {
    "colab": {
      "name": "DeepFashion.ipynb",
      "provenance": []
    },
    "kernelspec": {
      "name": "python3",
      "display_name": "Python 3"
    },
    "accelerator": "GPU"
  },
  "cells": [
    {
      "cell_type": "code",
      "metadata": {
        "id": "vK6epEIa2xvA",
        "colab_type": "code",
        "colab": {
          "base_uri": "https://localhost:8080/",
          "height": 121
        },
        "outputId": "18e89379-4f19-43e5-e098-20bbb50bf5c0"
      },
      "source": [
        "from google.colab import drive\n",
        "drive.mount('/content/drive')"
      ],
      "execution_count": 1,
      "outputs": [
        {
          "output_type": "stream",
          "text": [
            "Go to this URL in a browser: https://accounts.google.com/o/oauth2/auth?client_id=947318989803-6bn6qk8qdgf4n4g3pfee6491hc0brc4i.apps.googleusercontent.com&redirect_uri=urn%3aietf%3awg%3aoauth%3a2.0%3aoob&response_type=code&scope=email%20https%3a%2f%2fwww.googleapis.com%2fauth%2fdocs.test%20https%3a%2f%2fwww.googleapis.com%2fauth%2fdrive%20https%3a%2f%2fwww.googleapis.com%2fauth%2fdrive.photos.readonly%20https%3a%2f%2fwww.googleapis.com%2fauth%2fpeopleapi.readonly\n",
            "\n",
            "Enter your authorization code:\n",
            "··········\n",
            "Mounted at /content/drive\n"
          ],
          "name": "stdout"
        }
      ]
    },
    {
      "cell_type": "code",
      "metadata": {
        "id": "dP_579hq28vn",
        "colab_type": "code",
        "colab": {
          "base_uri": "https://localhost:8080/",
          "height": 34
        },
        "outputId": "5537fdf7-b64d-49a5-f667-9a0aed7ba933"
      },
      "source": [
        "!ls"
      ],
      "execution_count": 2,
      "outputs": [
        {
          "output_type": "stream",
          "text": [
            "drive  sample_data\n"
          ],
          "name": "stdout"
        }
      ]
    },
    {
      "cell_type": "code",
      "metadata": {
        "id": "Vl7QiuuS3EE_",
        "colab_type": "code",
        "colab": {
          "base_uri": "https://localhost:8080/",
          "height": 34
        },
        "outputId": "f30e5c8d-3283-4d0a-8dad-c1ec87ab68d1"
      },
      "source": [
        "!rm -rf data\n",
        "!ls"
      ],
      "execution_count": 3,
      "outputs": [
        {
          "output_type": "stream",
          "text": [
            "drive  sample_data\n"
          ],
          "name": "stdout"
        }
      ]
    },
    {
      "cell_type": "code",
      "metadata": {
        "id": "sl-bUqrb3HkQ",
        "colab_type": "code",
        "colab": {
          "base_uri": "https://localhost:8080/",
          "height": 373
        },
        "outputId": "7e16ef0b-ae46-4a76-ea2f-bdde7a7d08e4"
      },
      "source": [
        "!echo --------Downloading img.zip--------\n",
        "!wget --load-cookies /tmp/cookies.txt \"https://docs.google.com/uc?export=download&confirm=$(wget --quiet --save-cookies /tmp/cookies.txt --keep-session-cookies --no-check-certificate 'https://docs.google.com/uc?export=download&id=0B7EVK8r0v71pa2EyNEJ0dE9zbU0' -O- | sed -rn 's/.*confirm=([0-9A-Za-z_]+).*/\\1\\n/p')&id=0B7EVK8r0v71pa2EyNEJ0dE9zbU0\" -O deepfashion_img.zip\n",
        "!rm -rf /tmp/cookies.txt\n",
        "\n",
        "!echo --------Data download--------\n",
        "!ls"
      ],
      "execution_count": 4,
      "outputs": [
        {
          "output_type": "stream",
          "text": [
            "--------Downloading img.zip--------\n",
            "--2019-12-08 04:55:42--  https://docs.google.com/uc?export=download&confirm=P2Gi&id=0B7EVK8r0v71pa2EyNEJ0dE9zbU0\n",
            "Resolving docs.google.com (docs.google.com)... 74.125.200.138, 74.125.200.100, 74.125.200.113, ...\n",
            "Connecting to docs.google.com (docs.google.com)|74.125.200.138|:443... connected.\n",
            "HTTP request sent, awaiting response... 302 Moved Temporarily\n",
            "Location: https://doc-14-84-docs.googleusercontent.com/docs/securesc/ha0ro937gcuc7l7deffksulhg5h7mbp1/k9piis9lhpdc8ch8jl5618lf28tbljh7/1575777600000/13182073909007362810/*/0B7EVK8r0v71pa2EyNEJ0dE9zbU0?e=download [following]\n",
            "Warning: wildcards not supported in HTTP.\n",
            "--2019-12-08 04:55:42--  https://doc-14-84-docs.googleusercontent.com/docs/securesc/ha0ro937gcuc7l7deffksulhg5h7mbp1/k9piis9lhpdc8ch8jl5618lf28tbljh7/1575777600000/13182073909007362810/*/0B7EVK8r0v71pa2EyNEJ0dE9zbU0?e=download\n",
            "Resolving doc-14-84-docs.googleusercontent.com (doc-14-84-docs.googleusercontent.com)... 74.125.200.132, 2404:6800:4003:c00::84\n",
            "Connecting to doc-14-84-docs.googleusercontent.com (doc-14-84-docs.googleusercontent.com)|74.125.200.132|:443... connected.\n",
            "HTTP request sent, awaiting response... 200 OK\n",
            "Length: unspecified [application/zip]\n",
            "Saving to: ‘deepfashion_img.zip’\n",
            "\n",
            "deepfashion_img.zip     [ <=>                ]   2.50G  55.6MB/s    in 55s     \n",
            "\n",
            "2019-12-08 04:56:38 (46.8 MB/s) - ‘deepfashion_img.zip’ saved [2681199362]\n",
            "\n",
            "--------Data download--------\n",
            "deepfashion_img.zip  drive  sample_data\n"
          ],
          "name": "stdout"
        }
      ]
    },
    {
      "cell_type": "code",
      "metadata": {
        "id": "VWIUcD-G31vu",
        "colab_type": "code",
        "colab": {
          "base_uri": "https://localhost:8080/",
          "height": 373
        },
        "outputId": "6c2aa4dd-4b18-4c15-8242-e8d37efe3812"
      },
      "source": [
        "!echo --------Downloading list_eval_partition.txt--------\n",
        "!wget --load-cookies /tmp/cookies.txt \"https://docs.google.com/uc?export=download&confirm=$(wget --quiet --save-cookies /tmp/cookies.txt --keep-session-cookies --no-check-certificate 'https://docs.google.com/uc?export=download&id=0B7EVK8r0v71pdS1FMlNreEwtc1E' -O- | sed -rn 's/.*confirm=([0-9A-Za-z_]+).*/\\1\\n/p')&id=0B7EVK8r0v71pdS1FMlNreEwtc1E\" -O list_eval_partition.txt\n",
        "!rm -rf /tmp/cookies.txt\n",
        "\n",
        "!echo --------Data download--------\n",
        "!ls"
      ],
      "execution_count": 5,
      "outputs": [
        {
          "output_type": "stream",
          "text": [
            "--------Downloading list_eval_partition.txt--------\n",
            "--2019-12-08 04:58:58--  https://docs.google.com/uc?export=download&confirm=&id=0B7EVK8r0v71pdS1FMlNreEwtc1E\n",
            "Resolving docs.google.com (docs.google.com)... 74.125.200.139, 74.125.200.102, 74.125.200.101, ...\n",
            "Connecting to docs.google.com (docs.google.com)|74.125.200.139|:443... connected.\n",
            "HTTP request sent, awaiting response... 302 Moved Temporarily\n",
            "Location: https://doc-0o-84-docs.googleusercontent.com/docs/securesc/ha0ro937gcuc7l7deffksulhg5h7mbp1/poi8gg8f90kvf2c9i5nt5vlv8i0hbduu/1575777600000/13182073909007362810/*/0B7EVK8r0v71pdS1FMlNreEwtc1E?e=download [following]\n",
            "Warning: wildcards not supported in HTTP.\n",
            "--2019-12-08 04:58:59--  https://doc-0o-84-docs.googleusercontent.com/docs/securesc/ha0ro937gcuc7l7deffksulhg5h7mbp1/poi8gg8f90kvf2c9i5nt5vlv8i0hbduu/1575777600000/13182073909007362810/*/0B7EVK8r0v71pdS1FMlNreEwtc1E?e=download\n",
            "Resolving doc-0o-84-docs.googleusercontent.com (doc-0o-84-docs.googleusercontent.com)... 74.125.200.132, 2404:6800:4003:c00::84\n",
            "Connecting to doc-0o-84-docs.googleusercontent.com (doc-0o-84-docs.googleusercontent.com)|74.125.200.132|:443... connected.\n",
            "HTTP request sent, awaiting response... 200 OK\n",
            "Length: unspecified [text/plain]\n",
            "Saving to: ‘list_eval_partition.txt’\n",
            "\n",
            "list_eval_partition     [ <=>                ]  21.12M  --.-KB/s    in 0.09s   \n",
            "\n",
            "2019-12-08 04:58:59 (234 MB/s) - ‘list_eval_partition.txt’ saved [22150149]\n",
            "\n",
            "--------Data download--------\n",
            "deepfashion_img.zip  drive  list_eval_partition.txt  sample_data\n"
          ],
          "name": "stdout"
        }
      ]
    },
    {
      "cell_type": "code",
      "metadata": {
        "id": "3y27jctJ4G-3",
        "colab_type": "code",
        "colab": {
          "base_uri": "https://localhost:8080/",
          "height": 373
        },
        "outputId": "62028c73-4d29-4e61-ac35-52ae3da11c0f"
      },
      "source": [
        "!echo --------Downloading Anno.zip--------\n",
        "!wget --load-cookies /tmp/cookies.txt \"https://docs.google.com/uc?export=download&confirm=$(wget --quiet --save-cookies /tmp/cookies.txt --keep-session-cookies --no-check-certificate 'https://docs.google.com/uc?export=download&id=1-zjMCY-YERKhA9OmV78j-s678n_qAqPb' -O- | sed -rn 's/.*confirm=([0-9A-Za-z_]+).*/\\1\\n/p')&id=1-zjMCY-YERKhA9OmV78j-s678n_qAqPb\" -O Anno.zip\n",
        "!rm -rf /tmp/cookies.txt\n",
        "\n",
        "!echo --------Data download--------\n",
        "!ls"
      ],
      "execution_count": 6,
      "outputs": [
        {
          "output_type": "stream",
          "text": [
            "--------Downloading Anno.zip--------\n",
            "--2019-12-08 04:59:51--  https://docs.google.com/uc?export=download&confirm=&id=1-zjMCY-YERKhA9OmV78j-s678n_qAqPb\n",
            "Resolving docs.google.com (docs.google.com)... 74.125.24.138, 74.125.24.113, 74.125.24.102, ...\n",
            "Connecting to docs.google.com (docs.google.com)|74.125.24.138|:443... connected.\n",
            "HTTP request sent, awaiting response... 302 Moved Temporarily\n",
            "Location: https://doc-00-54-docs.googleusercontent.com/docs/securesc/ha0ro937gcuc7l7deffksulhg5h7mbp1/k8mhi7oqebimavkjtrmbshdoel7jgu7f/1575777600000/03307123913596985380/*/1-zjMCY-YERKhA9OmV78j-s678n_qAqPb?e=download [following]\n",
            "Warning: wildcards not supported in HTTP.\n",
            "--2019-12-08 04:59:52--  https://doc-00-54-docs.googleusercontent.com/docs/securesc/ha0ro937gcuc7l7deffksulhg5h7mbp1/k8mhi7oqebimavkjtrmbshdoel7jgu7f/1575777600000/03307123913596985380/*/1-zjMCY-YERKhA9OmV78j-s678n_qAqPb?e=download\n",
            "Resolving doc-00-54-docs.googleusercontent.com (doc-00-54-docs.googleusercontent.com)... 74.125.200.132, 2404:6800:4003:c00::84\n",
            "Connecting to doc-00-54-docs.googleusercontent.com (doc-00-54-docs.googleusercontent.com)|74.125.200.132|:443... connected.\n",
            "HTTP request sent, awaiting response... 200 OK\n",
            "Length: unspecified [application/zip]\n",
            "Saving to: ‘Anno.zip’\n",
            "\n",
            "Anno.zip                [ <=>                ]  17.69M  --.-KB/s    in 0.07s   \n",
            "\n",
            "2019-12-08 04:59:52 (268 MB/s) - ‘Anno.zip’ saved [18547214]\n",
            "\n",
            "--------Data download--------\n",
            "Anno.zip  deepfashion_img.zip  drive  list_eval_partition.txt  sample_data\n"
          ],
          "name": "stdout"
        }
      ]
    },
    {
      "cell_type": "code",
      "metadata": {
        "id": "IRfBc2wM4eav",
        "colab_type": "code",
        "colab": {
          "base_uri": "https://localhost:8080/",
          "height": 67
        },
        "outputId": "007ba644-b7ee-4c4b-cf59-8749d58d27f4"
      },
      "source": [
        "!echo --------Creating paths---------\n",
        "!mkdir data\n",
        "!mkdir data/val\n",
        "!mkdir data/Anno\n",
        "!mkdir data/Eval\n",
        "\n",
        "!echo --------ls into data/---------\n",
        "!ls data"
      ],
      "execution_count": 7,
      "outputs": [
        {
          "output_type": "stream",
          "text": [
            "--------Creating paths---------\n",
            "--------ls into data/---------\n",
            "Anno  Eval  val\n"
          ],
          "name": "stdout"
        }
      ]
    },
    {
      "cell_type": "code",
      "metadata": {
        "id": "AjHLHwTE4p8R",
        "colab_type": "code",
        "colab": {
          "base_uri": "https://localhost:8080/",
          "height": 67
        },
        "outputId": "05469ce3-9436-4365-df75-c7b36e4b426d"
      },
      "source": [
        "!echo --------moving the .zip files---------\n",
        "!mv ./deepfashion_img.zip ./data/\n",
        "!mv list_eval_partition.txt ./data/Eval/\n",
        "!mv ./Anno.zip ./data/Anno/\n",
        "\n",
        "!echo --------moved Data--------\n",
        "!ls"
      ],
      "execution_count": 8,
      "outputs": [
        {
          "output_type": "stream",
          "text": [
            "--------moving the .zip files---------\n",
            "--------moved Data--------\n",
            "data  drive  sample_data\n"
          ],
          "name": "stdout"
        }
      ]
    },
    {
      "cell_type": "code",
      "metadata": {
        "id": "DAAnidOy454p",
        "colab_type": "code",
        "colab": {
          "base_uri": "https://localhost:8080/",
          "height": 286
        },
        "outputId": "ca0c306b-d8fe-447c-9c54-3c1a07d03709"
      },
      "source": [
        "!echo --------installing unzip---------\n",
        "!apt-get install unzip"
      ],
      "execution_count": 9,
      "outputs": [
        {
          "output_type": "stream",
          "text": [
            "--------installing unzip---------\n",
            "Reading package lists... Done\n",
            "Building dependency tree       \n",
            "Reading state information... Done\n",
            "unzip is already the newest version (6.0-21ubuntu1).\n",
            "The following packages were automatically installed and are no longer required:\n",
            "  cuda-cufft-10-1 cuda-cufft-dev-10-1 cuda-curand-10-1 cuda-curand-dev-10-1\n",
            "  cuda-cusolver-10-1 cuda-cusolver-dev-10-1 cuda-cusparse-10-1\n",
            "  cuda-cusparse-dev-10-1 cuda-license-10-2 cuda-npp-10-1 cuda-npp-dev-10-1\n",
            "  cuda-nsight-10-1 cuda-nsight-compute-10-1 cuda-nsight-systems-10-1\n",
            "  cuda-nvgraph-10-1 cuda-nvgraph-dev-10-1 cuda-nvjpeg-10-1\n",
            "  cuda-nvjpeg-dev-10-1 cuda-nvrtc-10-1 cuda-nvrtc-dev-10-1 cuda-nvvp-10-1\n",
            "  libcublas10 libnvidia-common-430 nsight-compute-2019.5.0\n",
            "  nsight-systems-2019.5.2\n",
            "Use 'apt autoremove' to remove them.\n",
            "0 upgraded, 0 newly installed, 0 to remove and 5 not upgraded.\n"
          ],
          "name": "stdout"
        }
      ]
    },
    {
      "cell_type": "code",
      "metadata": {
        "id": "QYskUKCm5AlA",
        "colab_type": "code",
        "colab": {
          "base_uri": "https://localhost:8080/",
          "height": 34
        },
        "outputId": "d7a5ddcf-aa6d-45c6-b9b4-9ab6f08d1200"
      },
      "source": [
        "!ls data/"
      ],
      "execution_count": 10,
      "outputs": [
        {
          "output_type": "stream",
          "text": [
            "Anno  deepfashion_img.zip  Eval  val\n"
          ],
          "name": "stdout"
        }
      ]
    },
    {
      "cell_type": "code",
      "metadata": {
        "id": "1FxJqnZK5EcH",
        "colab_type": "code",
        "colab": {
          "base_uri": "https://localhost:8080/",
          "height": 101
        },
        "outputId": "6a10d5c9-60e6-4855-d48f-ad03a1ffad40"
      },
      "source": [
        "!echo --------unziping---------\n",
        "!unzip -qq ./data/deepfashion_img.zip -d ./data/\n",
        "!unzip -qq ./data/Anno/Anno.zip -d ./data/Anno/\n",
        "\n",
        "!ls ./data/img/ -U | head -4"
      ],
      "execution_count": 11,
      "outputs": [
        {
          "output_type": "stream",
          "text": [
            "--------unziping---------\n",
            "Tie-Dye_Sweatshorts\n",
            "Ribbed-Trim_Sheath_Dress\n",
            "Lace_Panel_Pintucked_Blouse\n",
            "Abstract-Quilted_Drawstring_Hoodie\n"
          ],
          "name": "stdout"
        }
      ]
    },
    {
      "cell_type": "code",
      "metadata": {
        "id": "nbKO-8AP5J9Y",
        "colab_type": "code",
        "colab": {
          "base_uri": "https://localhost:8080/",
          "height": 34
        },
        "outputId": "58d697ce-bf29-4142-a190-a0db8275ba3f"
      },
      "source": [
        "!echo --------romoving .zip files---------\n",
        "!rm -rf ./data/deepfashion_img.zip\n",
        "!rm -rf ./data/Anno/Anno.zip"
      ],
      "execution_count": 12,
      "outputs": [
        {
          "output_type": "stream",
          "text": [
            "--------romoving .zip files---------\n"
          ],
          "name": "stdout"
        }
      ]
    },
    {
      "cell_type": "code",
      "metadata": {
        "id": "b0uwj5sg5RvX",
        "colab_type": "code",
        "colab": {
          "base_uri": "https://localhost:8080/",
          "height": 84
        },
        "outputId": "13c37e2c-5ea0-42da-9d03-45cb57cad95e"
      },
      "source": [
        "!ls ./data/img/ -U | head -4"
      ],
      "execution_count": 13,
      "outputs": [
        {
          "output_type": "stream",
          "text": [
            "Tie-Dye_Sweatshorts\n",
            "Ribbed-Trim_Sheath_Dress\n",
            "Lace_Panel_Pintucked_Blouse\n",
            "Abstract-Quilted_Drawstring_Hoodie\n"
          ],
          "name": "stdout"
        }
      ]
    },
    {
      "cell_type": "code",
      "metadata": {
        "id": "Gx2ykcDf5kvn",
        "colab_type": "code",
        "colab": {}
      },
      "source": [
        "import shutil #file manager\n",
        "import os\n",
        "import re #regular exprestion\n",
        "import cv2\n",
        "# will use them for creating custom directory iterator\n",
        "import numpy as np\n",
        "from six.moves import range\n",
        "# regular expression for splitting by whitespace\n",
        "splitter = re.compile(\"\\s+\")\n",
        "base_path = './data/'"
      ],
      "execution_count": 0,
      "outputs": []
    },
    {
      "cell_type": "code",
      "metadata": {
        "id": "7jZwNiux5piq",
        "colab_type": "code",
        "colab": {}
      },
      "source": [
        "def process_folders():\n",
        "#   TODO: fix this bad code\n",
        "    base_path = './data/img'\n",
        "    # Read the relevant annotation file and preprocess it\n",
        "    # Assumed that the annotation files are under '<project folder>/data/anno' path\n",
        "    with open('./data/Eval/list_eval_partition.txt', 'r') as eval_partition_file:\n",
        "        list_eval_partition = [line.rstrip('\\n') for line in eval_partition_file][2:]\n",
        "        list_eval_partition = [splitter.split(line) for line in list_eval_partition]\n",
        "        list_all = [(v[0][4:], v[0].split('/')[1].split('_')[-1], v[1]) for v in list_eval_partition]\n",
        "    \n",
        "    \n",
        "    # Put each image into the relevant folder in train/test/validation folder\n",
        "    for element in list_all:\n",
        "        if not os.path.exists(os.path.join(base_path, element[2])):\n",
        "            os.mkdir(os.path.join(base_path, element[2]))\n",
        "        if not os.path.exists(os.path.join(os.path.join(base_path, element[2]), element[1])):\n",
        "            os.mkdir(os.path.join(os.path.join(base_path, element[2]), element[1]))\n",
        "        if not os.path.exists(os.path.join(os.path.join(os.path.join(os.path.join(base_path, element[2]), element[1])),\n",
        "                              element[0].split('/')[0])):\n",
        "            os.mkdir(os.path.join(os.path.join(os.path.join(os.path.join(base_path, element[2]), element[1])),\n",
        "                     element[0].split('/')[0]))\n",
        "        shutil.move(os.path.join(base_path, element[0]),\n",
        "                    os.path.join(os.path.join(os.path.join(base_path, element[2]), element[1]), element[0]))\n",
        "    base_path = './data/'"
      ],
      "execution_count": 0,
      "outputs": []
    },
    {
      "cell_type": "code",
      "metadata": {
        "id": "i6pwM9Qy5ubv",
        "colab_type": "code",
        "colab": {}
      },
      "source": [
        "process_folders()"
      ],
      "execution_count": 0,
      "outputs": []
    },
    {
      "cell_type": "code",
      "metadata": {
        "id": "HA7j-hl35yOo",
        "colab_type": "code",
        "colab": {
          "base_uri": "https://localhost:8080/",
          "height": 252
        },
        "outputId": "f8abf3e7-53a5-4875-f9e8-d7b99bca0be3"
      },
      "source": [
        "!echo ---------ls-------------\n",
        "!ls\n",
        "!echo ---------ls data-------------\n",
        "!ls data\n",
        "!echo ---------ls data/img max 4 --------------\n",
        "!ls ./data/img/ -U | head -4 \n",
        "!echo ---------ls data/img/train max 4 --------------\n",
        "!ls ./data/img/train -U | head -4"
      ],
      "execution_count": 17,
      "outputs": [
        {
          "output_type": "stream",
          "text": [
            "---------ls-------------\n",
            "data  drive  sample_data\n",
            "---------ls data-------------\n",
            "Anno  Eval  img  val\n",
            "---------ls data/img max 4 --------------\n",
            "Tie-Dye_Sweatshorts\n",
            "Ribbed-Trim_Sheath_Dress\n",
            "Lace_Panel_Pintucked_Blouse\n",
            "Abstract-Quilted_Drawstring_Hoodie\n",
            "---------ls data/img/train max 4 --------------\n",
            "Top\n",
            "Skirt\n",
            "Leggings\n",
            "Shorts\n"
          ],
          "name": "stdout"
        }
      ]
    },
    {
      "cell_type": "code",
      "metadata": {
        "id": "orxfVxwF51cg",
        "colab_type": "code",
        "colab": {}
      },
      "source": [
        "def create_dict_bboxes(list_all, split='train'):\n",
        "    lst = [(line[0], line[1], line[3], line[2]) for line in list_all if line[2] == split]\n",
        "    lst = [(\"\".join(line[0].split('/')[0] + '/' + line[3] + '/' + line[1] + line[0][3:]), line[1], line[2]) for line in lst]\n",
        "    lst_shape = [cv2.imread('./data/' + line[0]).shape for line in lst]\n",
        "    lst = [(line[0], line[1], (round(line[2][0] / shape[1], 2), round(line[2][1] / shape[0], 2), round(line[2][2] / shape[1], 2), round(line[2][3] / shape[0], 2))) for line, shape in zip(lst, lst_shape)]\n",
        "    dict_ = {}\n",
        "    dones = 0\n",
        "    for line, shape in zip(lst, lst_shape):\n",
        "      try:\n",
        "        dict_[\"/\".join(line[0].split('/')[2:])] = {'x1': line[2][0], 'y1': line[2][1], 'x2': line[2][2], 'y2': line[2][3], 'shape': shape}\n",
        "        dones = dones + 1\n",
        "      except:\n",
        "        print('EXCEPTION: ' + str(shape))\n",
        "        break\n",
        "    print('Dones: ' + str(dones))\n",
        "#       dict_ = {\"/\".join(line[0].split('/')[2:]): {'x1': line[2][0], 'y1': line[2][1], 'x2': line[2][2], 'y2': line[2][3], 'shape': line[2][4]} for line in lst}\n",
        "    return dict_"
      ],
      "execution_count": 0,
      "outputs": []
    },
    {
      "cell_type": "code",
      "metadata": {
        "id": "0z6Jl0dU56kf",
        "colab_type": "code",
        "colab": {}
      },
      "source": [
        "def get_dict_bboxes():\n",
        "    i = 0\n",
        "    with open(base_path + 'Anno/list_category_img.txt', 'r') as category_img_file, \\\n",
        "         open(base_path + 'Anno/list_eval_partition.txt', 'r') as eval_partition_file, \\\n",
        "         open(base_path + 'Anno/list_bbox.txt', 'r') as bbox_file:\n",
        "        list_category_img = [line.rstrip('\\n') for line in category_img_file][2:]\n",
        "        list_eval_partition = [line.rstrip('\\n') for line in eval_partition_file][2:]\n",
        "        list_bbox = [line.rstrip('\\n') for line in bbox_file][2:]\n",
        "\n",
        "        list_category_img = [splitter.split(line) for line in list_category_img]\n",
        "        list_eval_partition = [splitter.split(line) for line in list_eval_partition]\n",
        "        list_bbox = [splitter.split(line) for line in list_bbox]\n",
        "\n",
        "        list_all = [(k[0], k[0].split('/')[1].split('_')[-1], v[1], (int(b[1]), int(b[2]), int(b[3]), int(b[4])))\n",
        "                    for k, v, b in zip(list_category_img, list_eval_partition, list_bbox)]\n",
        "\n",
        "        list_all.sort(key=lambda x: x[1])\n",
        "        dict_train = create_dict_bboxes(list_all)\n",
        "#         print('1')\n",
        "        dict_val = create_dict_bboxes(list_all, split='val')\n",
        "#         print('2')\n",
        "        dict_test = create_dict_bboxes(list_all, split='test')\n",
        "#         print('3')\n",
        "\n",
        "        return dict_train, dict_val, dict_test"
      ],
      "execution_count": 0,
      "outputs": []
    },
    {
      "cell_type": "code",
      "metadata": {
        "id": "YLjAAAKv59xf",
        "colab_type": "code",
        "colab": {
          "base_uri": "https://localhost:8080/",
          "height": 79
        },
        "outputId": "e1f7b7f8-1977-43bd-cf54-5d35cc809ebb"
      },
      "source": [
        "from keras.models import Model\n",
        "from keras.layers import Dense\n",
        "from keras.regularizers import l2\n",
        "from keras.optimizers import SGD\n",
        "from keras.applications.resnet50 import ResNet50\n",
        "from keras.preprocessing import image\n",
        "from keras.preprocessing.image import DirectoryIterator, ImageDataGenerator\n",
        "from keras.callbacks import ReduceLROnPlateau, ModelCheckpoint, EarlyStopping, TensorBoard\n",
        "from keras import backend as K"
      ],
      "execution_count": 20,
      "outputs": [
        {
          "output_type": "stream",
          "text": [
            "Using TensorFlow backend.\n"
          ],
          "name": "stderr"
        },
        {
          "output_type": "display_data",
          "data": {
            "text/html": [
              "<p style=\"color: red;\">\n",
              "The default version of TensorFlow in Colab will soon switch to TensorFlow 2.x.<br>\n",
              "We recommend you <a href=\"https://www.tensorflow.org/guide/migrate\" target=\"_blank\">upgrade</a> now \n",
              "or ensure your notebook will continue to use TensorFlow 1.x via the <code>%tensorflow_version 1.x</code> magic:\n",
              "<a href=\"https://colab.research.google.com/notebooks/tensorflow_version.ipynb\" target=\"_blank\">more info</a>.</p>\n"
            ],
            "text/plain": [
              "<IPython.core.display.HTML object>"
            ]
          },
          "metadata": {
            "tags": []
          }
        }
      ]
    },
    {
      "cell_type": "code",
      "metadata": {
        "id": "LeOOHiSX6ADv",
        "colab_type": "code",
        "colab": {
          "base_uri": "https://localhost:8080/",
          "height": 474
        },
        "outputId": "8ed28f42-57f6-4743-a796-5be1900a1ad0"
      },
      "source": [
        "model_resnet = ResNet50(weights='imagenet', include_top=False, pooling='avg')\n"
      ],
      "execution_count": 21,
      "outputs": [
        {
          "output_type": "stream",
          "text": [
            "WARNING:tensorflow:From /usr/local/lib/python3.6/dist-packages/keras/backend/tensorflow_backend.py:66: The name tf.get_default_graph is deprecated. Please use tf.compat.v1.get_default_graph instead.\n",
            "\n",
            "WARNING:tensorflow:From /usr/local/lib/python3.6/dist-packages/keras/backend/tensorflow_backend.py:541: The name tf.placeholder is deprecated. Please use tf.compat.v1.placeholder instead.\n",
            "\n",
            "WARNING:tensorflow:From /usr/local/lib/python3.6/dist-packages/keras/backend/tensorflow_backend.py:4479: The name tf.truncated_normal is deprecated. Please use tf.random.truncated_normal instead.\n",
            "\n",
            "WARNING:tensorflow:From /usr/local/lib/python3.6/dist-packages/keras/backend/tensorflow_backend.py:190: The name tf.get_default_session is deprecated. Please use tf.compat.v1.get_default_session instead.\n",
            "\n",
            "WARNING:tensorflow:From /usr/local/lib/python3.6/dist-packages/keras/backend/tensorflow_backend.py:197: The name tf.ConfigProto is deprecated. Please use tf.compat.v1.ConfigProto instead.\n",
            "\n",
            "WARNING:tensorflow:From /usr/local/lib/python3.6/dist-packages/keras/backend/tensorflow_backend.py:203: The name tf.Session is deprecated. Please use tf.compat.v1.Session instead.\n",
            "\n",
            "WARNING:tensorflow:From /usr/local/lib/python3.6/dist-packages/keras/backend/tensorflow_backend.py:207: The name tf.global_variables is deprecated. Please use tf.compat.v1.global_variables instead.\n",
            "\n",
            "WARNING:tensorflow:From /usr/local/lib/python3.6/dist-packages/keras/backend/tensorflow_backend.py:216: The name tf.is_variable_initialized is deprecated. Please use tf.compat.v1.is_variable_initialized instead.\n",
            "\n",
            "WARNING:tensorflow:From /usr/local/lib/python3.6/dist-packages/keras/backend/tensorflow_backend.py:223: The name tf.variables_initializer is deprecated. Please use tf.compat.v1.variables_initializer instead.\n",
            "\n",
            "WARNING:tensorflow:From /usr/local/lib/python3.6/dist-packages/keras/backend/tensorflow_backend.py:2041: The name tf.nn.fused_batch_norm is deprecated. Please use tf.compat.v1.nn.fused_batch_norm instead.\n",
            "\n",
            "WARNING:tensorflow:From /usr/local/lib/python3.6/dist-packages/keras/backend/tensorflow_backend.py:148: The name tf.placeholder_with_default is deprecated. Please use tf.compat.v1.placeholder_with_default instead.\n",
            "\n",
            "WARNING:tensorflow:From /usr/local/lib/python3.6/dist-packages/keras/backend/tensorflow_backend.py:4267: The name tf.nn.max_pool is deprecated. Please use tf.nn.max_pool2d instead.\n",
            "\n",
            "Downloading data from https://github.com/fchollet/deep-learning-models/releases/download/v0.2/resnet50_weights_tf_dim_ordering_tf_kernels_notop.h5\n",
            "94658560/94653016 [==============================] - 8s 0us/step\n"
          ],
          "name": "stdout"
        }
      ]
    },
    {
      "cell_type": "code",
      "metadata": {
        "id": "V3PS-zhB6CFp",
        "colab_type": "code",
        "colab": {}
      },
      "source": [
        "for layer in model_resnet.layers[:-12]:\n",
        "    # 6 - 12 - 18 have been tried. 12 is the best.\n",
        "    layer.trainable = False"
      ],
      "execution_count": 0,
      "outputs": []
    },
    {
      "cell_type": "code",
      "metadata": {
        "id": "7JW1E_Q06EXh",
        "colab_type": "code",
        "colab": {
          "base_uri": "https://localhost:8080/",
          "height": 70
        },
        "outputId": "c02eebdc-15e3-4f1b-88a1-fa9a14f4c8c0"
      },
      "source": [
        "x = model_resnet.output\n",
        "x = Dense(512, activation='elu', kernel_regularizer=l2(0.001))(x)\n",
        "y = Dense(46, activation='softmax', name='img')(x)"
      ],
      "execution_count": 23,
      "outputs": [
        {
          "output_type": "stream",
          "text": [
            "WARNING:tensorflow:From /usr/local/lib/python3.6/dist-packages/keras/backend/tensorflow_backend.py:4432: The name tf.random_uniform is deprecated. Please use tf.random.uniform instead.\n",
            "\n"
          ],
          "name": "stdout"
        }
      ]
    },
    {
      "cell_type": "code",
      "metadata": {
        "id": "bHF_7ukU6Hh7",
        "colab_type": "code",
        "colab": {
          "base_uri": "https://localhost:8080/",
          "height": 70
        },
        "outputId": "660da19a-256c-4252-ce8f-d60224915db9"
      },
      "source": [
        "x_bbox = model_resnet.output\n",
        "x_bbox = Dense(512, activation='relu', kernel_regularizer=l2(0.001))(x_bbox)\n",
        "x_bbox = Dense(128, activation='relu', kernel_regularizer=l2(0.001))(x_bbox)\n",
        "bbox = Dense(4, kernel_initializer='normal', name='bbox')(x_bbox)"
      ],
      "execution_count": 24,
      "outputs": [
        {
          "output_type": "stream",
          "text": [
            "WARNING:tensorflow:From /usr/local/lib/python3.6/dist-packages/keras/backend/tensorflow_backend.py:4409: The name tf.random_normal is deprecated. Please use tf.random.normal instead.\n",
            "\n"
          ],
          "name": "stdout"
        }
      ]
    },
    {
      "cell_type": "code",
      "metadata": {
        "id": "sNWXyq126P3K",
        "colab_type": "code",
        "colab": {}
      },
      "source": [
        "final_model = Model(inputs=model_resnet.input,\n",
        "                    outputs=[y, bbox])"
      ],
      "execution_count": 0,
      "outputs": []
    },
    {
      "cell_type": "code",
      "metadata": {
        "id": "MhR0gyuT6QcN",
        "colab_type": "code",
        "colab": {
          "base_uri": "https://localhost:8080/",
          "height": 1000
        },
        "outputId": "59963893-5f2e-4217-e71c-04ea7572ad42"
      },
      "source": [
        "print(final_model.summary())\n"
      ],
      "execution_count": 26,
      "outputs": [
        {
          "output_type": "stream",
          "text": [
            "Model: \"model_1\"\n",
            "__________________________________________________________________________________________________\n",
            "Layer (type)                    Output Shape         Param #     Connected to                     \n",
            "==================================================================================================\n",
            "input_1 (InputLayer)            (None, None, None, 3 0                                            \n",
            "__________________________________________________________________________________________________\n",
            "conv1_pad (ZeroPadding2D)       (None, None, None, 3 0           input_1[0][0]                    \n",
            "__________________________________________________________________________________________________\n",
            "conv1 (Conv2D)                  (None, None, None, 6 9472        conv1_pad[0][0]                  \n",
            "__________________________________________________________________________________________________\n",
            "bn_conv1 (BatchNormalization)   (None, None, None, 6 256         conv1[0][0]                      \n",
            "__________________________________________________________________________________________________\n",
            "activation_1 (Activation)       (None, None, None, 6 0           bn_conv1[0][0]                   \n",
            "__________________________________________________________________________________________________\n",
            "pool1_pad (ZeroPadding2D)       (None, None, None, 6 0           activation_1[0][0]               \n",
            "__________________________________________________________________________________________________\n",
            "max_pooling2d_1 (MaxPooling2D)  (None, None, None, 6 0           pool1_pad[0][0]                  \n",
            "__________________________________________________________________________________________________\n",
            "res2a_branch2a (Conv2D)         (None, None, None, 6 4160        max_pooling2d_1[0][0]            \n",
            "__________________________________________________________________________________________________\n",
            "bn2a_branch2a (BatchNormalizati (None, None, None, 6 256         res2a_branch2a[0][0]             \n",
            "__________________________________________________________________________________________________\n",
            "activation_2 (Activation)       (None, None, None, 6 0           bn2a_branch2a[0][0]              \n",
            "__________________________________________________________________________________________________\n",
            "res2a_branch2b (Conv2D)         (None, None, None, 6 36928       activation_2[0][0]               \n",
            "__________________________________________________________________________________________________\n",
            "bn2a_branch2b (BatchNormalizati (None, None, None, 6 256         res2a_branch2b[0][0]             \n",
            "__________________________________________________________________________________________________\n",
            "activation_3 (Activation)       (None, None, None, 6 0           bn2a_branch2b[0][0]              \n",
            "__________________________________________________________________________________________________\n",
            "res2a_branch2c (Conv2D)         (None, None, None, 2 16640       activation_3[0][0]               \n",
            "__________________________________________________________________________________________________\n",
            "res2a_branch1 (Conv2D)          (None, None, None, 2 16640       max_pooling2d_1[0][0]            \n",
            "__________________________________________________________________________________________________\n",
            "bn2a_branch2c (BatchNormalizati (None, None, None, 2 1024        res2a_branch2c[0][0]             \n",
            "__________________________________________________________________________________________________\n",
            "bn2a_branch1 (BatchNormalizatio (None, None, None, 2 1024        res2a_branch1[0][0]              \n",
            "__________________________________________________________________________________________________\n",
            "add_1 (Add)                     (None, None, None, 2 0           bn2a_branch2c[0][0]              \n",
            "                                                                 bn2a_branch1[0][0]               \n",
            "__________________________________________________________________________________________________\n",
            "activation_4 (Activation)       (None, None, None, 2 0           add_1[0][0]                      \n",
            "__________________________________________________________________________________________________\n",
            "res2b_branch2a (Conv2D)         (None, None, None, 6 16448       activation_4[0][0]               \n",
            "__________________________________________________________________________________________________\n",
            "bn2b_branch2a (BatchNormalizati (None, None, None, 6 256         res2b_branch2a[0][0]             \n",
            "__________________________________________________________________________________________________\n",
            "activation_5 (Activation)       (None, None, None, 6 0           bn2b_branch2a[0][0]              \n",
            "__________________________________________________________________________________________________\n",
            "res2b_branch2b (Conv2D)         (None, None, None, 6 36928       activation_5[0][0]               \n",
            "__________________________________________________________________________________________________\n",
            "bn2b_branch2b (BatchNormalizati (None, None, None, 6 256         res2b_branch2b[0][0]             \n",
            "__________________________________________________________________________________________________\n",
            "activation_6 (Activation)       (None, None, None, 6 0           bn2b_branch2b[0][0]              \n",
            "__________________________________________________________________________________________________\n",
            "res2b_branch2c (Conv2D)         (None, None, None, 2 16640       activation_6[0][0]               \n",
            "__________________________________________________________________________________________________\n",
            "bn2b_branch2c (BatchNormalizati (None, None, None, 2 1024        res2b_branch2c[0][0]             \n",
            "__________________________________________________________________________________________________\n",
            "add_2 (Add)                     (None, None, None, 2 0           bn2b_branch2c[0][0]              \n",
            "                                                                 activation_4[0][0]               \n",
            "__________________________________________________________________________________________________\n",
            "activation_7 (Activation)       (None, None, None, 2 0           add_2[0][0]                      \n",
            "__________________________________________________________________________________________________\n",
            "res2c_branch2a (Conv2D)         (None, None, None, 6 16448       activation_7[0][0]               \n",
            "__________________________________________________________________________________________________\n",
            "bn2c_branch2a (BatchNormalizati (None, None, None, 6 256         res2c_branch2a[0][0]             \n",
            "__________________________________________________________________________________________________\n",
            "activation_8 (Activation)       (None, None, None, 6 0           bn2c_branch2a[0][0]              \n",
            "__________________________________________________________________________________________________\n",
            "res2c_branch2b (Conv2D)         (None, None, None, 6 36928       activation_8[0][0]               \n",
            "__________________________________________________________________________________________________\n",
            "bn2c_branch2b (BatchNormalizati (None, None, None, 6 256         res2c_branch2b[0][0]             \n",
            "__________________________________________________________________________________________________\n",
            "activation_9 (Activation)       (None, None, None, 6 0           bn2c_branch2b[0][0]              \n",
            "__________________________________________________________________________________________________\n",
            "res2c_branch2c (Conv2D)         (None, None, None, 2 16640       activation_9[0][0]               \n",
            "__________________________________________________________________________________________________\n",
            "bn2c_branch2c (BatchNormalizati (None, None, None, 2 1024        res2c_branch2c[0][0]             \n",
            "__________________________________________________________________________________________________\n",
            "add_3 (Add)                     (None, None, None, 2 0           bn2c_branch2c[0][0]              \n",
            "                                                                 activation_7[0][0]               \n",
            "__________________________________________________________________________________________________\n",
            "activation_10 (Activation)      (None, None, None, 2 0           add_3[0][0]                      \n",
            "__________________________________________________________________________________________________\n",
            "res3a_branch2a (Conv2D)         (None, None, None, 1 32896       activation_10[0][0]              \n",
            "__________________________________________________________________________________________________\n",
            "bn3a_branch2a (BatchNormalizati (None, None, None, 1 512         res3a_branch2a[0][0]             \n",
            "__________________________________________________________________________________________________\n",
            "activation_11 (Activation)      (None, None, None, 1 0           bn3a_branch2a[0][0]              \n",
            "__________________________________________________________________________________________________\n",
            "res3a_branch2b (Conv2D)         (None, None, None, 1 147584      activation_11[0][0]              \n",
            "__________________________________________________________________________________________________\n",
            "bn3a_branch2b (BatchNormalizati (None, None, None, 1 512         res3a_branch2b[0][0]             \n",
            "__________________________________________________________________________________________________\n",
            "activation_12 (Activation)      (None, None, None, 1 0           bn3a_branch2b[0][0]              \n",
            "__________________________________________________________________________________________________\n",
            "res3a_branch2c (Conv2D)         (None, None, None, 5 66048       activation_12[0][0]              \n",
            "__________________________________________________________________________________________________\n",
            "res3a_branch1 (Conv2D)          (None, None, None, 5 131584      activation_10[0][0]              \n",
            "__________________________________________________________________________________________________\n",
            "bn3a_branch2c (BatchNormalizati (None, None, None, 5 2048        res3a_branch2c[0][0]             \n",
            "__________________________________________________________________________________________________\n",
            "bn3a_branch1 (BatchNormalizatio (None, None, None, 5 2048        res3a_branch1[0][0]              \n",
            "__________________________________________________________________________________________________\n",
            "add_4 (Add)                     (None, None, None, 5 0           bn3a_branch2c[0][0]              \n",
            "                                                                 bn3a_branch1[0][0]               \n",
            "__________________________________________________________________________________________________\n",
            "activation_13 (Activation)      (None, None, None, 5 0           add_4[0][0]                      \n",
            "__________________________________________________________________________________________________\n",
            "res3b_branch2a (Conv2D)         (None, None, None, 1 65664       activation_13[0][0]              \n",
            "__________________________________________________________________________________________________\n",
            "bn3b_branch2a (BatchNormalizati (None, None, None, 1 512         res3b_branch2a[0][0]             \n",
            "__________________________________________________________________________________________________\n",
            "activation_14 (Activation)      (None, None, None, 1 0           bn3b_branch2a[0][0]              \n",
            "__________________________________________________________________________________________________\n",
            "res3b_branch2b (Conv2D)         (None, None, None, 1 147584      activation_14[0][0]              \n",
            "__________________________________________________________________________________________________\n",
            "bn3b_branch2b (BatchNormalizati (None, None, None, 1 512         res3b_branch2b[0][0]             \n",
            "__________________________________________________________________________________________________\n",
            "activation_15 (Activation)      (None, None, None, 1 0           bn3b_branch2b[0][0]              \n",
            "__________________________________________________________________________________________________\n",
            "res3b_branch2c (Conv2D)         (None, None, None, 5 66048       activation_15[0][0]              \n",
            "__________________________________________________________________________________________________\n",
            "bn3b_branch2c (BatchNormalizati (None, None, None, 5 2048        res3b_branch2c[0][0]             \n",
            "__________________________________________________________________________________________________\n",
            "add_5 (Add)                     (None, None, None, 5 0           bn3b_branch2c[0][0]              \n",
            "                                                                 activation_13[0][0]              \n",
            "__________________________________________________________________________________________________\n",
            "activation_16 (Activation)      (None, None, None, 5 0           add_5[0][0]                      \n",
            "__________________________________________________________________________________________________\n",
            "res3c_branch2a (Conv2D)         (None, None, None, 1 65664       activation_16[0][0]              \n",
            "__________________________________________________________________________________________________\n",
            "bn3c_branch2a (BatchNormalizati (None, None, None, 1 512         res3c_branch2a[0][0]             \n",
            "__________________________________________________________________________________________________\n",
            "activation_17 (Activation)      (None, None, None, 1 0           bn3c_branch2a[0][0]              \n",
            "__________________________________________________________________________________________________\n",
            "res3c_branch2b (Conv2D)         (None, None, None, 1 147584      activation_17[0][0]              \n",
            "__________________________________________________________________________________________________\n",
            "bn3c_branch2b (BatchNormalizati (None, None, None, 1 512         res3c_branch2b[0][0]             \n",
            "__________________________________________________________________________________________________\n",
            "activation_18 (Activation)      (None, None, None, 1 0           bn3c_branch2b[0][0]              \n",
            "__________________________________________________________________________________________________\n",
            "res3c_branch2c (Conv2D)         (None, None, None, 5 66048       activation_18[0][0]              \n",
            "__________________________________________________________________________________________________\n",
            "bn3c_branch2c (BatchNormalizati (None, None, None, 5 2048        res3c_branch2c[0][0]             \n",
            "__________________________________________________________________________________________________\n",
            "add_6 (Add)                     (None, None, None, 5 0           bn3c_branch2c[0][0]              \n",
            "                                                                 activation_16[0][0]              \n",
            "__________________________________________________________________________________________________\n",
            "activation_19 (Activation)      (None, None, None, 5 0           add_6[0][0]                      \n",
            "__________________________________________________________________________________________________\n",
            "res3d_branch2a (Conv2D)         (None, None, None, 1 65664       activation_19[0][0]              \n",
            "__________________________________________________________________________________________________\n",
            "bn3d_branch2a (BatchNormalizati (None, None, None, 1 512         res3d_branch2a[0][0]             \n",
            "__________________________________________________________________________________________________\n",
            "activation_20 (Activation)      (None, None, None, 1 0           bn3d_branch2a[0][0]              \n",
            "__________________________________________________________________________________________________\n",
            "res3d_branch2b (Conv2D)         (None, None, None, 1 147584      activation_20[0][0]              \n",
            "__________________________________________________________________________________________________\n",
            "bn3d_branch2b (BatchNormalizati (None, None, None, 1 512         res3d_branch2b[0][0]             \n",
            "__________________________________________________________________________________________________\n",
            "activation_21 (Activation)      (None, None, None, 1 0           bn3d_branch2b[0][0]              \n",
            "__________________________________________________________________________________________________\n",
            "res3d_branch2c (Conv2D)         (None, None, None, 5 66048       activation_21[0][0]              \n",
            "__________________________________________________________________________________________________\n",
            "bn3d_branch2c (BatchNormalizati (None, None, None, 5 2048        res3d_branch2c[0][0]             \n",
            "__________________________________________________________________________________________________\n",
            "add_7 (Add)                     (None, None, None, 5 0           bn3d_branch2c[0][0]              \n",
            "                                                                 activation_19[0][0]              \n",
            "__________________________________________________________________________________________________\n",
            "activation_22 (Activation)      (None, None, None, 5 0           add_7[0][0]                      \n",
            "__________________________________________________________________________________________________\n",
            "res4a_branch2a (Conv2D)         (None, None, None, 2 131328      activation_22[0][0]              \n",
            "__________________________________________________________________________________________________\n",
            "bn4a_branch2a (BatchNormalizati (None, None, None, 2 1024        res4a_branch2a[0][0]             \n",
            "__________________________________________________________________________________________________\n",
            "activation_23 (Activation)      (None, None, None, 2 0           bn4a_branch2a[0][0]              \n",
            "__________________________________________________________________________________________________\n",
            "res4a_branch2b (Conv2D)         (None, None, None, 2 590080      activation_23[0][0]              \n",
            "__________________________________________________________________________________________________\n",
            "bn4a_branch2b (BatchNormalizati (None, None, None, 2 1024        res4a_branch2b[0][0]             \n",
            "__________________________________________________________________________________________________\n",
            "activation_24 (Activation)      (None, None, None, 2 0           bn4a_branch2b[0][0]              \n",
            "__________________________________________________________________________________________________\n",
            "res4a_branch2c (Conv2D)         (None, None, None, 1 263168      activation_24[0][0]              \n",
            "__________________________________________________________________________________________________\n",
            "res4a_branch1 (Conv2D)          (None, None, None, 1 525312      activation_22[0][0]              \n",
            "__________________________________________________________________________________________________\n",
            "bn4a_branch2c (BatchNormalizati (None, None, None, 1 4096        res4a_branch2c[0][0]             \n",
            "__________________________________________________________________________________________________\n",
            "bn4a_branch1 (BatchNormalizatio (None, None, None, 1 4096        res4a_branch1[0][0]              \n",
            "__________________________________________________________________________________________________\n",
            "add_8 (Add)                     (None, None, None, 1 0           bn4a_branch2c[0][0]              \n",
            "                                                                 bn4a_branch1[0][0]               \n",
            "__________________________________________________________________________________________________\n",
            "activation_25 (Activation)      (None, None, None, 1 0           add_8[0][0]                      \n",
            "__________________________________________________________________________________________________\n",
            "res4b_branch2a (Conv2D)         (None, None, None, 2 262400      activation_25[0][0]              \n",
            "__________________________________________________________________________________________________\n",
            "bn4b_branch2a (BatchNormalizati (None, None, None, 2 1024        res4b_branch2a[0][0]             \n",
            "__________________________________________________________________________________________________\n",
            "activation_26 (Activation)      (None, None, None, 2 0           bn4b_branch2a[0][0]              \n",
            "__________________________________________________________________________________________________\n",
            "res4b_branch2b (Conv2D)         (None, None, None, 2 590080      activation_26[0][0]              \n",
            "__________________________________________________________________________________________________\n",
            "bn4b_branch2b (BatchNormalizati (None, None, None, 2 1024        res4b_branch2b[0][0]             \n",
            "__________________________________________________________________________________________________\n",
            "activation_27 (Activation)      (None, None, None, 2 0           bn4b_branch2b[0][0]              \n",
            "__________________________________________________________________________________________________\n",
            "res4b_branch2c (Conv2D)         (None, None, None, 1 263168      activation_27[0][0]              \n",
            "__________________________________________________________________________________________________\n",
            "bn4b_branch2c (BatchNormalizati (None, None, None, 1 4096        res4b_branch2c[0][0]             \n",
            "__________________________________________________________________________________________________\n",
            "add_9 (Add)                     (None, None, None, 1 0           bn4b_branch2c[0][0]              \n",
            "                                                                 activation_25[0][0]              \n",
            "__________________________________________________________________________________________________\n",
            "activation_28 (Activation)      (None, None, None, 1 0           add_9[0][0]                      \n",
            "__________________________________________________________________________________________________\n",
            "res4c_branch2a (Conv2D)         (None, None, None, 2 262400      activation_28[0][0]              \n",
            "__________________________________________________________________________________________________\n",
            "bn4c_branch2a (BatchNormalizati (None, None, None, 2 1024        res4c_branch2a[0][0]             \n",
            "__________________________________________________________________________________________________\n",
            "activation_29 (Activation)      (None, None, None, 2 0           bn4c_branch2a[0][0]              \n",
            "__________________________________________________________________________________________________\n",
            "res4c_branch2b (Conv2D)         (None, None, None, 2 590080      activation_29[0][0]              \n",
            "__________________________________________________________________________________________________\n",
            "bn4c_branch2b (BatchNormalizati (None, None, None, 2 1024        res4c_branch2b[0][0]             \n",
            "__________________________________________________________________________________________________\n",
            "activation_30 (Activation)      (None, None, None, 2 0           bn4c_branch2b[0][0]              \n",
            "__________________________________________________________________________________________________\n",
            "res4c_branch2c (Conv2D)         (None, None, None, 1 263168      activation_30[0][0]              \n",
            "__________________________________________________________________________________________________\n",
            "bn4c_branch2c (BatchNormalizati (None, None, None, 1 4096        res4c_branch2c[0][0]             \n",
            "__________________________________________________________________________________________________\n",
            "add_10 (Add)                    (None, None, None, 1 0           bn4c_branch2c[0][0]              \n",
            "                                                                 activation_28[0][0]              \n",
            "__________________________________________________________________________________________________\n",
            "activation_31 (Activation)      (None, None, None, 1 0           add_10[0][0]                     \n",
            "__________________________________________________________________________________________________\n",
            "res4d_branch2a (Conv2D)         (None, None, None, 2 262400      activation_31[0][0]              \n",
            "__________________________________________________________________________________________________\n",
            "bn4d_branch2a (BatchNormalizati (None, None, None, 2 1024        res4d_branch2a[0][0]             \n",
            "__________________________________________________________________________________________________\n",
            "activation_32 (Activation)      (None, None, None, 2 0           bn4d_branch2a[0][0]              \n",
            "__________________________________________________________________________________________________\n",
            "res4d_branch2b (Conv2D)         (None, None, None, 2 590080      activation_32[0][0]              \n",
            "__________________________________________________________________________________________________\n",
            "bn4d_branch2b (BatchNormalizati (None, None, None, 2 1024        res4d_branch2b[0][0]             \n",
            "__________________________________________________________________________________________________\n",
            "activation_33 (Activation)      (None, None, None, 2 0           bn4d_branch2b[0][0]              \n",
            "__________________________________________________________________________________________________\n",
            "res4d_branch2c (Conv2D)         (None, None, None, 1 263168      activation_33[0][0]              \n",
            "__________________________________________________________________________________________________\n",
            "bn4d_branch2c (BatchNormalizati (None, None, None, 1 4096        res4d_branch2c[0][0]             \n",
            "__________________________________________________________________________________________________\n",
            "add_11 (Add)                    (None, None, None, 1 0           bn4d_branch2c[0][0]              \n",
            "                                                                 activation_31[0][0]              \n",
            "__________________________________________________________________________________________________\n",
            "activation_34 (Activation)      (None, None, None, 1 0           add_11[0][0]                     \n",
            "__________________________________________________________________________________________________\n",
            "res4e_branch2a (Conv2D)         (None, None, None, 2 262400      activation_34[0][0]              \n",
            "__________________________________________________________________________________________________\n",
            "bn4e_branch2a (BatchNormalizati (None, None, None, 2 1024        res4e_branch2a[0][0]             \n",
            "__________________________________________________________________________________________________\n",
            "activation_35 (Activation)      (None, None, None, 2 0           bn4e_branch2a[0][0]              \n",
            "__________________________________________________________________________________________________\n",
            "res4e_branch2b (Conv2D)         (None, None, None, 2 590080      activation_35[0][0]              \n",
            "__________________________________________________________________________________________________\n",
            "bn4e_branch2b (BatchNormalizati (None, None, None, 2 1024        res4e_branch2b[0][0]             \n",
            "__________________________________________________________________________________________________\n",
            "activation_36 (Activation)      (None, None, None, 2 0           bn4e_branch2b[0][0]              \n",
            "__________________________________________________________________________________________________\n",
            "res4e_branch2c (Conv2D)         (None, None, None, 1 263168      activation_36[0][0]              \n",
            "__________________________________________________________________________________________________\n",
            "bn4e_branch2c (BatchNormalizati (None, None, None, 1 4096        res4e_branch2c[0][0]             \n",
            "__________________________________________________________________________________________________\n",
            "add_12 (Add)                    (None, None, None, 1 0           bn4e_branch2c[0][0]              \n",
            "                                                                 activation_34[0][0]              \n",
            "__________________________________________________________________________________________________\n",
            "activation_37 (Activation)      (None, None, None, 1 0           add_12[0][0]                     \n",
            "__________________________________________________________________________________________________\n",
            "res4f_branch2a (Conv2D)         (None, None, None, 2 262400      activation_37[0][0]              \n",
            "__________________________________________________________________________________________________\n",
            "bn4f_branch2a (BatchNormalizati (None, None, None, 2 1024        res4f_branch2a[0][0]             \n",
            "__________________________________________________________________________________________________\n",
            "activation_38 (Activation)      (None, None, None, 2 0           bn4f_branch2a[0][0]              \n",
            "__________________________________________________________________________________________________\n",
            "res4f_branch2b (Conv2D)         (None, None, None, 2 590080      activation_38[0][0]              \n",
            "__________________________________________________________________________________________________\n",
            "bn4f_branch2b (BatchNormalizati (None, None, None, 2 1024        res4f_branch2b[0][0]             \n",
            "__________________________________________________________________________________________________\n",
            "activation_39 (Activation)      (None, None, None, 2 0           bn4f_branch2b[0][0]              \n",
            "__________________________________________________________________________________________________\n",
            "res4f_branch2c (Conv2D)         (None, None, None, 1 263168      activation_39[0][0]              \n",
            "__________________________________________________________________________________________________\n",
            "bn4f_branch2c (BatchNormalizati (None, None, None, 1 4096        res4f_branch2c[0][0]             \n",
            "__________________________________________________________________________________________________\n",
            "add_13 (Add)                    (None, None, None, 1 0           bn4f_branch2c[0][0]              \n",
            "                                                                 activation_37[0][0]              \n",
            "__________________________________________________________________________________________________\n",
            "activation_40 (Activation)      (None, None, None, 1 0           add_13[0][0]                     \n",
            "__________________________________________________________________________________________________\n",
            "res5a_branch2a (Conv2D)         (None, None, None, 5 524800      activation_40[0][0]              \n",
            "__________________________________________________________________________________________________\n",
            "bn5a_branch2a (BatchNormalizati (None, None, None, 5 2048        res5a_branch2a[0][0]             \n",
            "__________________________________________________________________________________________________\n",
            "activation_41 (Activation)      (None, None, None, 5 0           bn5a_branch2a[0][0]              \n",
            "__________________________________________________________________________________________________\n",
            "res5a_branch2b (Conv2D)         (None, None, None, 5 2359808     activation_41[0][0]              \n",
            "__________________________________________________________________________________________________\n",
            "bn5a_branch2b (BatchNormalizati (None, None, None, 5 2048        res5a_branch2b[0][0]             \n",
            "__________________________________________________________________________________________________\n",
            "activation_42 (Activation)      (None, None, None, 5 0           bn5a_branch2b[0][0]              \n",
            "__________________________________________________________________________________________________\n",
            "res5a_branch2c (Conv2D)         (None, None, None, 2 1050624     activation_42[0][0]              \n",
            "__________________________________________________________________________________________________\n",
            "res5a_branch1 (Conv2D)          (None, None, None, 2 2099200     activation_40[0][0]              \n",
            "__________________________________________________________________________________________________\n",
            "bn5a_branch2c (BatchNormalizati (None, None, None, 2 8192        res5a_branch2c[0][0]             \n",
            "__________________________________________________________________________________________________\n",
            "bn5a_branch1 (BatchNormalizatio (None, None, None, 2 8192        res5a_branch1[0][0]              \n",
            "__________________________________________________________________________________________________\n",
            "add_14 (Add)                    (None, None, None, 2 0           bn5a_branch2c[0][0]              \n",
            "                                                                 bn5a_branch1[0][0]               \n",
            "__________________________________________________________________________________________________\n",
            "activation_43 (Activation)      (None, None, None, 2 0           add_14[0][0]                     \n",
            "__________________________________________________________________________________________________\n",
            "res5b_branch2a (Conv2D)         (None, None, None, 5 1049088     activation_43[0][0]              \n",
            "__________________________________________________________________________________________________\n",
            "bn5b_branch2a (BatchNormalizati (None, None, None, 5 2048        res5b_branch2a[0][0]             \n",
            "__________________________________________________________________________________________________\n",
            "activation_44 (Activation)      (None, None, None, 5 0           bn5b_branch2a[0][0]              \n",
            "__________________________________________________________________________________________________\n",
            "res5b_branch2b (Conv2D)         (None, None, None, 5 2359808     activation_44[0][0]              \n",
            "__________________________________________________________________________________________________\n",
            "bn5b_branch2b (BatchNormalizati (None, None, None, 5 2048        res5b_branch2b[0][0]             \n",
            "__________________________________________________________________________________________________\n",
            "activation_45 (Activation)      (None, None, None, 5 0           bn5b_branch2b[0][0]              \n",
            "__________________________________________________________________________________________________\n",
            "res5b_branch2c (Conv2D)         (None, None, None, 2 1050624     activation_45[0][0]              \n",
            "__________________________________________________________________________________________________\n",
            "bn5b_branch2c (BatchNormalizati (None, None, None, 2 8192        res5b_branch2c[0][0]             \n",
            "__________________________________________________________________________________________________\n",
            "add_15 (Add)                    (None, None, None, 2 0           bn5b_branch2c[0][0]              \n",
            "                                                                 activation_43[0][0]              \n",
            "__________________________________________________________________________________________________\n",
            "activation_46 (Activation)      (None, None, None, 2 0           add_15[0][0]                     \n",
            "__________________________________________________________________________________________________\n",
            "res5c_branch2a (Conv2D)         (None, None, None, 5 1049088     activation_46[0][0]              \n",
            "__________________________________________________________________________________________________\n",
            "bn5c_branch2a (BatchNormalizati (None, None, None, 5 2048        res5c_branch2a[0][0]             \n",
            "__________________________________________________________________________________________________\n",
            "activation_47 (Activation)      (None, None, None, 5 0           bn5c_branch2a[0][0]              \n",
            "__________________________________________________________________________________________________\n",
            "res5c_branch2b (Conv2D)         (None, None, None, 5 2359808     activation_47[0][0]              \n",
            "__________________________________________________________________________________________________\n",
            "bn5c_branch2b (BatchNormalizati (None, None, None, 5 2048        res5c_branch2b[0][0]             \n",
            "__________________________________________________________________________________________________\n",
            "activation_48 (Activation)      (None, None, None, 5 0           bn5c_branch2b[0][0]              \n",
            "__________________________________________________________________________________________________\n",
            "res5c_branch2c (Conv2D)         (None, None, None, 2 1050624     activation_48[0][0]              \n",
            "__________________________________________________________________________________________________\n",
            "bn5c_branch2c (BatchNormalizati (None, None, None, 2 8192        res5c_branch2c[0][0]             \n",
            "__________________________________________________________________________________________________\n",
            "add_16 (Add)                    (None, None, None, 2 0           bn5c_branch2c[0][0]              \n",
            "                                                                 activation_46[0][0]              \n",
            "__________________________________________________________________________________________________\n",
            "activation_49 (Activation)      (None, None, None, 2 0           add_16[0][0]                     \n",
            "__________________________________________________________________________________________________\n",
            "global_average_pooling2d_1 (Glo (None, 2048)         0           activation_49[0][0]              \n",
            "__________________________________________________________________________________________________\n",
            "dense_2 (Dense)                 (None, 512)          1049088     global_average_pooling2d_1[0][0] \n",
            "__________________________________________________________________________________________________\n",
            "dense_1 (Dense)                 (None, 512)          1049088     global_average_pooling2d_1[0][0] \n",
            "__________________________________________________________________________________________________\n",
            "dense_3 (Dense)                 (None, 128)          65664       dense_2[0][0]                    \n",
            "__________________________________________________________________________________________________\n",
            "img (Dense)                     (None, 46)           23598       dense_1[0][0]                    \n",
            "__________________________________________________________________________________________________\n",
            "bbox (Dense)                    (None, 4)            516         dense_3[0][0]                    \n",
            "==================================================================================================\n",
            "Total params: 25,775,666\n",
            "Trainable params: 6,653,618\n",
            "Non-trainable params: 19,122,048\n",
            "__________________________________________________________________________________________________\n",
            "None\n"
          ],
          "name": "stdout"
        }
      ]
    },
    {
      "cell_type": "code",
      "metadata": {
        "id": "_urAM8ce6R6i",
        "colab_type": "code",
        "colab": {}
      },
      "source": [
        "opt = SGD(lr=0.0001, momentum=0.9, nesterov=True)\n"
      ],
      "execution_count": 0,
      "outputs": []
    },
    {
      "cell_type": "code",
      "metadata": {
        "id": "yrf6CBc26U35",
        "colab_type": "code",
        "colab": {
          "base_uri": "https://localhost:8080/",
          "height": 104
        },
        "outputId": "aea6d215-6067-47f0-a76e-c9482f2f083f"
      },
      "source": [
        "final_model.compile(optimizer=opt,\n",
        "                    loss={'img': 'categorical_crossentropy',\n",
        "                          'bbox': 'mean_squared_error'},\n",
        "                    metrics={'img': ['accuracy', 'top_k_categorical_accuracy'], # default: top-5\n",
        "                             'bbox': ['mse']})"
      ],
      "execution_count": 28,
      "outputs": [
        {
          "output_type": "stream",
          "text": [
            "WARNING:tensorflow:From /usr/local/lib/python3.6/dist-packages/keras/optimizers.py:793: The name tf.train.Optimizer is deprecated. Please use tf.compat.v1.train.Optimizer instead.\n",
            "\n",
            "WARNING:tensorflow:From /usr/local/lib/python3.6/dist-packages/keras/backend/tensorflow_backend.py:3576: The name tf.log is deprecated. Please use tf.math.log instead.\n",
            "\n"
          ],
          "name": "stdout"
        }
      ]
    },
    {
      "cell_type": "code",
      "metadata": {
        "id": "4KboQBiY6WZC",
        "colab_type": "code",
        "colab": {}
      },
      "source": [
        "train_datagen = ImageDataGenerator(rotation_range=30.,\n",
        "                                   shear_range=0.2,\n",
        "                                   zoom_range=0.2,\n",
        "                                   width_shift_range=0.2,\n",
        "                                   height_shift_range=0.2,\n",
        "                                   horizontal_flip=True)\n",
        "test_datagen = ImageDataGenerator()"
      ],
      "execution_count": 0,
      "outputs": []
    },
    {
      "cell_type": "code",
      "metadata": {
        "id": "eVx_WtDO6cWz",
        "colab_type": "code",
        "colab": {}
      },
      "source": [
        "class DirectoryIteratorWithBoundingBoxes(DirectoryIterator):\n",
        "    def __init__(self, directory, image_data_generator, bounding_boxes: dict = None, target_size=(256, 256),\n",
        "                 color_mode: str = 'rgb', classes=None, class_mode: str = 'categorical', batch_size: int = 32,\n",
        "                 shuffle: bool = True, seed=None, data_format=None, save_to_dir=None,\n",
        "                 save_prefix: str = '', save_format: str = 'jpeg', follow_links: bool = False):\n",
        "        super().__init__(directory, image_data_generator, target_size, color_mode, classes, class_mode, batch_size,\n",
        "                         shuffle, seed, data_format, save_to_dir, save_prefix, save_format, follow_links)\n",
        "        self.bounding_boxes = bounding_boxes\n",
        "\n",
        "    def next(self):\n",
        "        \"\"\"\n",
        "        # Returns\n",
        "            The next batch.\n",
        "        \"\"\"\n",
        "        with self.lock:\n",
        "            index_array = next(self.index_generator)\n",
        "        # The transformation of images is not under thread lock\n",
        "        # so it can be done in parallel\n",
        "        batch_x = np.zeros((len(index_array),) + self.image_shape, dtype=K.floatx())\n",
        "        locations = np.zeros((len(batch_x),) + (4,), dtype=K.floatx())\n",
        "\n",
        "        grayscale = self.color_mode == 'grayscale'\n",
        "        # build batch of image data\n",
        "        for i, j in enumerate(index_array):\n",
        "            fname = self.filenames[j]\n",
        "            img = image.load_img(os.path.join(self.directory, fname),\n",
        "                                 grayscale=grayscale,\n",
        "                                 target_size=self.target_size)\n",
        "            x = image.img_to_array(img, data_format=self.data_format)\n",
        "            x = self.image_data_generator.random_transform(x)\n",
        "            x = self.image_data_generator.standardize(x)\n",
        "            batch_x[i] = x\n",
        "\n",
        "            if self.bounding_boxes is not None:\n",
        "                bounding_box = self.bounding_boxes[fname]\n",
        "                locations[i] = np.asarray(\n",
        "                    [bounding_box['x1'], bounding_box['y1'], bounding_box['x2'], bounding_box['y2']],\n",
        "                    dtype=K.floatx())\n",
        "        # optionally save augmented images to disk for debugging purposes\n",
        "        # build batch of labels\n",
        "        if self.class_mode == 'sparse':\n",
        "            batch_y = self.classes[index_array]\n",
        "        elif self.class_mode == 'binary':\n",
        "            batch_y = self.classes[index_array].astype(K.floatx())\n",
        "        elif self.class_mode == 'categorical':\n",
        "            batch_y = np.zeros((len(batch_x), 46), dtype=K.floatx())\n",
        "            for i, label in enumerate(self.classes[index_array]):\n",
        "                batch_y[i, label] = 1.\n",
        "        else:\n",
        "            return batch_x\n",
        "\n",
        "        if self.bounding_boxes is not None:\n",
        "            return batch_x, [batch_y, locations]\n",
        "        else:\n",
        "            return batch_x, batch_y"
      ],
      "execution_count": 0,
      "outputs": []
    },
    {
      "cell_type": "code",
      "metadata": {
        "id": "XT0sOyDN6gA5",
        "colab_type": "code",
        "colab": {
          "base_uri": "https://localhost:8080/",
          "height": 185
        },
        "outputId": "e6eb40f5-9f3e-470e-f743-c189d535adee"
      },
      "source": [
        "!ls ./data/img/train/Romper/Baroque_Embroidered_Romper"
      ],
      "execution_count": 31,
      "outputs": [
        {
          "output_type": "stream",
          "text": [
            "img_00000001.jpg  img_00000016.jpg  img_00000028.jpg  img_00000042.jpg\n",
            "img_00000002.jpg  img_00000017.jpg  img_00000029.jpg  img_00000043.jpg\n",
            "img_00000006.jpg  img_00000019.jpg  img_00000030.jpg  img_00000045.jpg\n",
            "img_00000007.jpg  img_00000020.jpg  img_00000031.jpg  img_00000046.jpg\n",
            "img_00000008.jpg  img_00000022.jpg  img_00000032.jpg  img_00000049.jpg\n",
            "img_00000009.jpg  img_00000023.jpg  img_00000033.jpg  img_00000050.jpg\n",
            "img_00000010.jpg  img_00000024.jpg  img_00000035.jpg  img_00000051.jpg\n",
            "img_00000011.jpg  img_00000025.jpg  img_00000037.jpg  img_00000052.jpg\n",
            "img_00000012.jpg  img_00000026.jpg  img_00000039.jpg\n",
            "img_00000015.jpg  img_00000027.jpg  img_00000041.jpg\n"
          ],
          "name": "stdout"
        }
      ]
    },
    {
      "cell_type": "code",
      "metadata": {
        "id": "WlLg7yNp6gr7",
        "colab_type": "code",
        "colab": {
          "base_uri": "https://localhost:8080/",
          "height": 67
        },
        "outputId": "b96b97b4-9f87-4ecb-8f1f-ea37f50aa159"
      },
      "source": [
        "dict_train, dict_val, dict_test = get_dict_bboxes()\n"
      ],
      "execution_count": 32,
      "outputs": [
        {
          "output_type": "stream",
          "text": [
            "Dones: 209222\n",
            "Dones: 40000\n",
            "Dones: 40000\n"
          ],
          "name": "stdout"
        }
      ]
    },
    {
      "cell_type": "code",
      "metadata": {
        "id": "gNsb4khL6uby",
        "colab_type": "code",
        "colab": {
          "base_uri": "https://localhost:8080/",
          "height": 185
        },
        "outputId": "ea7f5eb5-0100-49e5-cf63-d4664d0dc49a"
      },
      "source": [
        "print(dict_val)\n",
        "print(type(dict_val))"
      ],
      "execution_count": 33,
      "outputs": [
        {
          "output_type": "stream",
          "text": [
            "IOPub data rate exceeded.\n",
            "The notebook server will temporarily stop sending output\n",
            "to the client in order to avoid crashing it.\n",
            "To change this limit, set the config variable\n",
            "`--NotebookApp.iopub_data_rate_limit`.\n",
            "\n",
            "Current values:\n",
            "NotebookApp.iopub_data_rate_limit=1000000.0 (bytes/sec)\n",
            "NotebookApp.rate_limit_window=3.0 (secs)\n",
            "\n"
          ],
          "name": "stderr"
        }
      ]
    },
    {
      "cell_type": "code",
      "metadata": {
        "id": "XWduIjNx64xa",
        "colab_type": "code",
        "colab": {
          "base_uri": "https://localhost:8080/",
          "height": 50
        },
        "outputId": "7ed6a542-677d-4dec-c1f0-f455a1b5370b"
      },
      "source": [
        "train_iterator = DirectoryIteratorWithBoundingBoxes(base_path + 'img/train', train_datagen, bounding_boxes=dict_train, target_size=(200, 200))\n",
        "test_iterator = DirectoryIteratorWithBoundingBoxes(base_path + 'img/val', test_datagen, bounding_boxes=dict_val,target_size=(200, 200))"
      ],
      "execution_count": 34,
      "outputs": [
        {
          "output_type": "stream",
          "text": [
            "Found 209222 images belonging to 46 classes.\n",
            "Found 40000 images belonging to 46 classes.\n"
          ],
          "name": "stdout"
        }
      ]
    },
    {
      "cell_type": "code",
      "metadata": {
        "id": "-AymbAFk66x7",
        "colab_type": "code",
        "colab": {}
      },
      "source": [
        "lr_reducer = ReduceLROnPlateau(monitor='val_loss',\n",
        "                               patience=12,\n",
        "                               factor=0.5,\n",
        "                               verbose=1)\n",
        "tensorboard = TensorBoard(log_dir='./logs')\n",
        "early_stopper = EarlyStopping(monitor='val_loss',\n",
        "                              patience=30,\n",
        "                              verbose=1)\n",
        "checkpoint = ModelCheckpoint('./models/model.h5')"
      ],
      "execution_count": 0,
      "outputs": []
    },
    {
      "cell_type": "code",
      "metadata": {
        "id": "9F7TM4nt6-iq",
        "colab_type": "code",
        "colab": {}
      },
      "source": [
        "def custom_generator(iterator):\n",
        "  while True:\n",
        "    batch_x, batch_y = iterator.next()\n",
        "    yield(batch_x,batch_y)"
      ],
      "execution_count": 0,
      "outputs": []
    },
    {
      "cell_type": "code",
      "metadata": {
        "id": "2pb8qksv6_Gs",
        "colab_type": "code",
        "colab": {}
      },
      "source": [
        "!mkdir models\n",
        "!touch models/model.h5"
      ],
      "execution_count": 0,
      "outputs": []
    },
    {
      "cell_type": "code",
      "metadata": {
        "id": "TMBmlK467B7j",
        "colab_type": "code",
        "colab": {
          "base_uri": "https://localhost:8080/",
          "height": 34
        },
        "outputId": "6df3f068-653b-40b0-9642-6d9306f711e5"
      },
      "source": [
        "!ls"
      ],
      "execution_count": 38,
      "outputs": [
        {
          "output_type": "stream",
          "text": [
            "data  drive  models  sample_data\n"
          ],
          "name": "stdout"
        }
      ]
    },
    {
      "cell_type": "code",
      "metadata": {
        "id": "zjBZMOO57E6c",
        "colab_type": "code",
        "colab": {}
      },
      "source": [
        "def train(epochs, validation_steps):\n",
        "  final_model.fit_generator(custom_generator(train_iterator),\n",
        "                            steps_per_epoch=2000,\n",
        "                            epochs=epochs, validation_data=custom_generator(test_iterator),\n",
        "                            validation_steps=validation_steps,\n",
        "                            verbose=2,\n",
        "                            shuffle=True,\n",
        "                            callbacks=[lr_reducer, checkpoint, early_stopper, tensorboard],\n",
        "                            workers=12)"
      ],
      "execution_count": 0,
      "outputs": []
    },
    {
      "cell_type": "code",
      "metadata": {
        "id": "wC9e-Jpn7Fip",
        "colab_type": "code",
        "colab": {
          "base_uri": "https://localhost:8080/",
          "height": 34
        },
        "outputId": "3fd80344-9d6f-425c-e01d-4d075a4f0c7c"
      },
      "source": [
        "final_model.fit_generator(custom_generator(train_iterator),\n",
        "                          steps_per_epoch=2000,\n",
        "                          epochs=5, validation_data=custom_generator(test_iterator),\n",
        "                          validation_steps=5,\n",
        "                          verbose=2,\n",
        "                          shuffle=True,\n",
        "                          callbacks=[lr_reducer, checkpoint, early_stopper, tensorboard])\n",
        "#                         workers=12, use_multiprocessing = True)"
      ],
      "execution_count": 0,
      "outputs": [
        {
          "output_type": "stream",
          "text": [
            "Epoch 1/5\n"
          ],
          "name": "stdout"
        }
      ]
    },
    {
      "cell_type": "code",
      "metadata": {
        "id": "BMrjFuSY7I1b",
        "colab_type": "code",
        "colab": {}
      },
      "source": [
        "!ls models"
      ],
      "execution_count": 0,
      "outputs": []
    },
    {
      "cell_type": "code",
      "metadata": {
        "id": "JSWyxqo07LEL",
        "colab_type": "code",
        "colab": {}
      },
      "source": [
        "!ls data/img/train/Joggers/Zippered_Camo-Paneled_Chino_Joggers\n"
      ],
      "execution_count": 0,
      "outputs": []
    }
  ]
}